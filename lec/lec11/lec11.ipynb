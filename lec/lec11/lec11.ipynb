{
 "cells": [
  {
   "cell_type": "code",
   "execution_count": 1,
   "metadata": {},
   "outputs": [],
   "source": [
    "# HIDDEN\n",
    "import warnings\n",
    "# Ignore numpy dtype warnings. These warnings are caused by an interaction\n",
    "# between numpy and Cython and can be safely ignored.\n",
    "# Reference: https://stackoverflow.com/a/40846742\n",
    "warnings.filterwarnings(\"ignore\", message=\"numpy.dtype size changed\")\n",
    "warnings.filterwarnings(\"ignore\", message=\"numpy.ufunc size changed\")\n",
    "\n",
    "import numpy as np\n",
    "import matplotlib.pyplot as plt\n",
    "import pandas as pd\n",
    "import seaborn as sns\n",
    "%matplotlib inline\n",
    "import ipywidgets as widgets\n",
    "from ipywidgets import interact, interactive, fixed, interact_manual\n",
    "import nbinteract as nbi\n",
    "\n",
    "from pathlib import Path\n",
    "from ds100_utils import fetch_and_cache\n",
    "from datetime import datetime\n",
    "from IPython.display import display\n",
    "import yaml\n",
    "\n",
    "sns.set()\n",
    "sns.set_context('talk')\n",
    "np.set_printoptions(threshold=20, precision=2, suppress=True)\n",
    "pd.set_option('display.max_rows', 7)\n",
    "pd.set_option('display.max_columns', 8)\n",
    "pd.set_option('precision', 2)\n",
    "# This option stops scientific notation for pandas\n",
    "# pd.set_option('display.float_format', '{:.2f}'.format)"
   ]
  },
  {
   "cell_type": "code",
   "execution_count": 20,
   "metadata": {},
   "outputs": [],
   "source": [
    "# HIDDEN\n",
    "def df_interact(df, nrows=7, ncols=7):\n",
    "    '''\n",
    "    Outputs sliders that show rows and columns of df\n",
    "    '''\n",
    "    def peek(row=0, col=0):\n",
    "        return df.iloc[row:row + nrows, col:col + ncols]\n",
    "\n",
    "    row_arg = (0, len(df), nrows) if len(df) > nrows else fixed(0)\n",
    "    col_arg = ((0, len(df.columns), ncols)\n",
    "               if len(df.columns) > ncols else fixed(0))\n",
    "    \n",
    "    interact(peek, row=row_arg, col=col_arg)\n",
    "    print('({} rows, {} columns) total'.format(df.shape[0], df.shape[1]))\n",
    "\n",
    "def display_df(df, rows=pd.options.display.max_rows,\n",
    "               cols=pd.options.display.max_columns):\n",
    "    with pd.option_context('display.max_rows', rows,\n",
    "                           'display.max_columns', cols):\n",
    "        display(df)"
   ]
  },
  {
   "cell_type": "markdown",
   "metadata": {},
   "source": [
    "# Data"
   ]
  },
  {
   "cell_type": "code",
   "execution_count": 3,
   "metadata": {},
   "outputs": [
    {
     "name": "stdout",
     "output_type": "stream",
     "text": [
      "Using cached version that was downloaded (UTC): Tue Jul  9 16:06:45 2019\n"
     ]
    },
    {
     "data": {
      "text/html": [
       "<div>\n",
       "<style scoped>\n",
       "    .dataframe tbody tr th:only-of-type {\n",
       "        vertical-align: middle;\n",
       "    }\n",
       "\n",
       "    .dataframe tbody tr th {\n",
       "        vertical-align: top;\n",
       "    }\n",
       "\n",
       "    .dataframe thead th {\n",
       "        text-align: right;\n",
       "    }\n",
       "</style>\n",
       "<table border=\"1\" class=\"dataframe\">\n",
       "  <thead>\n",
       "    <tr style=\"text-align: right;\">\n",
       "      <th></th>\n",
       "      <th>leg_id</th>\n",
       "      <th>first</th>\n",
       "      <th>last</th>\n",
       "      <th>gender</th>\n",
       "      <th>terms</th>\n",
       "      <th>birthday</th>\n",
       "    </tr>\n",
       "  </thead>\n",
       "  <tbody>\n",
       "    <tr>\n",
       "      <th>0</th>\n",
       "      <td>B000944</td>\n",
       "      <td>Sherrod</td>\n",
       "      <td>Brown</td>\n",
       "      <td>M</td>\n",
       "      <td>10</td>\n",
       "      <td>1952-11-09</td>\n",
       "    </tr>\n",
       "    <tr>\n",
       "      <th>1</th>\n",
       "      <td>C000127</td>\n",
       "      <td>Maria</td>\n",
       "      <td>Cantwell</td>\n",
       "      <td>F</td>\n",
       "      <td>5</td>\n",
       "      <td>1958-10-13</td>\n",
       "    </tr>\n",
       "    <tr>\n",
       "      <th>2</th>\n",
       "      <td>C000141</td>\n",
       "      <td>Benjamin</td>\n",
       "      <td>Cardin</td>\n",
       "      <td>M</td>\n",
       "      <td>13</td>\n",
       "      <td>1943-10-05</td>\n",
       "    </tr>\n",
       "    <tr>\n",
       "      <th>...</th>\n",
       "      <td>...</td>\n",
       "      <td>...</td>\n",
       "      <td>...</td>\n",
       "      <td>...</td>\n",
       "      <td>...</td>\n",
       "      <td>...</td>\n",
       "    </tr>\n",
       "    <tr>\n",
       "      <th>536</th>\n",
       "      <td>M001197</td>\n",
       "      <td>Martha</td>\n",
       "      <td>McSally</td>\n",
       "      <td>F</td>\n",
       "      <td>3</td>\n",
       "      <td>1966-03-22</td>\n",
       "    </tr>\n",
       "    <tr>\n",
       "      <th>537</th>\n",
       "      <td>G000592</td>\n",
       "      <td>Jared</td>\n",
       "      <td>Golden</td>\n",
       "      <td>M</td>\n",
       "      <td>1</td>\n",
       "      <td>1982-07-25</td>\n",
       "    </tr>\n",
       "    <tr>\n",
       "      <th>538</th>\n",
       "      <td>K000395</td>\n",
       "      <td>Fred</td>\n",
       "      <td>Keller</td>\n",
       "      <td>M</td>\n",
       "      <td>1</td>\n",
       "      <td>1965-10-23</td>\n",
       "    </tr>\n",
       "  </tbody>\n",
       "</table>\n",
       "<p>539 rows × 6 columns</p>\n",
       "</div>"
      ],
      "text/plain": [
       "      leg_id     first      last gender  terms   birthday\n",
       "0    B000944   Sherrod     Brown      M     10 1952-11-09\n",
       "1    C000127     Maria  Cantwell      F      5 1958-10-13\n",
       "2    C000141  Benjamin    Cardin      M     13 1943-10-05\n",
       "..       ...       ...       ...    ...    ...        ...\n",
       "536  M001197    Martha   McSally      F      3 1966-03-22\n",
       "537  G000592     Jared    Golden      M      1 1982-07-25\n",
       "538  K000395      Fred    Keller      M      1 1965-10-23\n",
       "\n",
       "[539 rows x 6 columns]"
      ]
     },
     "execution_count": 3,
     "metadata": {},
     "output_type": "execute_result"
    }
   ],
   "source": [
    "# From Lecture 4: current members of congress\n",
    "base_url = 'https://github.com/unitedstates/congress-legislators/raw/master/'\n",
    "current_path = 'legislators-current.yaml'\n",
    "f = fetch_and_cache(base_url + current_path, current_path)\n",
    "current_data = yaml.safe_load(open(f))\n",
    "\n",
    "def birthdays(data):\n",
    "    return pd.DataFrame(\n",
    "        columns=['leg_id', 'first', 'last', 'gender', 'terms', 'birthday'],\n",
    "        data=[[x['id']['bioguide'], \n",
    "               x['name']['first'],\n",
    "               x['name']['last'],\n",
    "               x['bio']['gender'],\n",
    "               len(x['terms']),\n",
    "               pd.to_datetime(x['bio'].get('birthday'), yearfirst=True)\n",
    "              ] for x in data])\n",
    "\n",
    "current_legs = birthdays(current_data)\n",
    "current_legs"
   ]
  },
  {
   "cell_type": "code",
   "execution_count": 4,
   "metadata": {},
   "outputs": [
    {
     "name": "stdout",
     "output_type": "stream",
     "text": [
      "Downloading... Done!\n"
     ]
    },
    {
     "data": {
      "text/html": [
       "<div>\n",
       "<style scoped>\n",
       "    .dataframe tbody tr th:only-of-type {\n",
       "        vertical-align: middle;\n",
       "    }\n",
       "\n",
       "    .dataframe tbody tr th {\n",
       "        vertical-align: top;\n",
       "    }\n",
       "\n",
       "    .dataframe thead th {\n",
       "        text-align: right;\n",
       "    }\n",
       "</style>\n",
       "<table border=\"1\" class=\"dataframe\">\n",
       "  <thead>\n",
       "    <tr style=\"text-align: right;\">\n",
       "      <th></th>\n",
       "      <th>leg_id</th>\n",
       "      <th>first</th>\n",
       "      <th>last</th>\n",
       "      <th>gender</th>\n",
       "      <th>terms</th>\n",
       "      <th>birthday</th>\n",
       "    </tr>\n",
       "  </thead>\n",
       "  <tbody>\n",
       "    <tr>\n",
       "      <th>0</th>\n",
       "      <td>B000226</td>\n",
       "      <td>Richard</td>\n",
       "      <td>Bassett</td>\n",
       "      <td>M</td>\n",
       "      <td>1</td>\n",
       "      <td>1745-04-02</td>\n",
       "    </tr>\n",
       "    <tr>\n",
       "      <th>1</th>\n",
       "      <td>B000546</td>\n",
       "      <td>Theodorick</td>\n",
       "      <td>Bland</td>\n",
       "      <td>M</td>\n",
       "      <td>1</td>\n",
       "      <td>1742-03-21</td>\n",
       "    </tr>\n",
       "    <tr>\n",
       "      <th>2</th>\n",
       "      <td>B001086</td>\n",
       "      <td>Aedanus</td>\n",
       "      <td>Burke</td>\n",
       "      <td>M</td>\n",
       "      <td>1</td>\n",
       "      <td>1743-06-16</td>\n",
       "    </tr>\n",
       "    <tr>\n",
       "      <th>...</th>\n",
       "      <td>...</td>\n",
       "      <td>...</td>\n",
       "      <td>...</td>\n",
       "      <td>...</td>\n",
       "      <td>...</td>\n",
       "      <td>...</td>\n",
       "    </tr>\n",
       "    <tr>\n",
       "      <th>11972</th>\n",
       "      <td>J000303</td>\n",
       "      <td>Brenda</td>\n",
       "      <td>Jones</td>\n",
       "      <td>F</td>\n",
       "      <td>1</td>\n",
       "      <td>1959-10-24</td>\n",
       "    </tr>\n",
       "    <tr>\n",
       "      <th>11973</th>\n",
       "      <td>M001179</td>\n",
       "      <td>Tom</td>\n",
       "      <td>Marino</td>\n",
       "      <td>M</td>\n",
       "      <td>5</td>\n",
       "      <td>1952-08-15</td>\n",
       "    </tr>\n",
       "    <tr>\n",
       "      <th>11974</th>\n",
       "      <td>J000255</td>\n",
       "      <td>Walter</td>\n",
       "      <td>Jones</td>\n",
       "      <td>M</td>\n",
       "      <td>13</td>\n",
       "      <td>1943-02-10</td>\n",
       "    </tr>\n",
       "  </tbody>\n",
       "</table>\n",
       "<p>11975 rows × 6 columns</p>\n",
       "</div>"
      ],
      "text/plain": [
       "        leg_id       first     last gender  terms   birthday\n",
       "0      B000226     Richard  Bassett      M      1 1745-04-02\n",
       "1      B000546  Theodorick    Bland      M      1 1742-03-21\n",
       "2      B001086     Aedanus    Burke      M      1 1743-06-16\n",
       "...        ...         ...      ...    ...    ...        ...\n",
       "11972  J000303      Brenda    Jones      F      1 1959-10-24\n",
       "11973  M001179         Tom   Marino      M      5 1952-08-15\n",
       "11974  J000255      Walter    Jones      M     13 1943-02-10\n",
       "\n",
       "[11975 rows x 6 columns]"
      ]
     },
     "execution_count": 4,
     "metadata": {},
     "output_type": "execute_result"
    }
   ],
   "source": [
    "# Past members of congress\n",
    "past_path = 'legislators-historical.yaml'\n",
    "f = fetch_and_cache(base_url + past_path, past_path)\n",
    "past_data = yaml.safe_load(open(f))\n",
    "\n",
    "past_legs = birthdays(past_data)\n",
    "past_legs"
   ]
  },
  {
   "cell_type": "code",
   "execution_count": 105,
   "metadata": {},
   "outputs": [
    {
     "data": {
      "text/plain": [
       "<matplotlib.axes._subplots.AxesSubplot at 0x1a1f898c50>"
      ]
     },
     "execution_count": 105,
     "metadata": {},
     "output_type": "execute_result"
    },
    {
     "data": {
      "image/png": "[encoded data removed]",
      "text/plain": [
       "<Figure size 648x360 with 1 Axes>"
      ]
     },
     "metadata": {
      "needs_background": "light"
     },
     "output_type": "display_data"
    }
   ],
   "source": [
    "plt.figure(figsize=(9, 5))\n",
    "legs = pd.concat([past_legs, current_legs]).reset_index(drop=True)\n",
    "assert legs.shape[0] == len(legs['leg_id'].unique()) # No repeats\n",
    "sns.countplot(legs['terms'])"
   ]
  },
  {
   "cell_type": "markdown",
   "metadata": {},
   "source": [
    "# Study Design"
   ]
  },
  {
   "cell_type": "code",
   "execution_count": 6,
   "metadata": {},
   "outputs": [
    {
     "data": {
      "image/png": "[encoded data removed]",
      "text/plain": [
       "<Figure size 432x288 with 1 Axes>"
      ]
     },
     "metadata": {
      "needs_background": "light"
     },
     "output_type": "display_data"
    }
   ],
   "source": [
    "bins = np.linspace(1700, 2000, 16)\n",
    "sns.distplot(legs['birthday'].dropna().dt.year, bins=bins)\n",
    "plt.xlabel('Year');\n",
    "plt.xticks(bins, rotation=90)\n",
    "plt.ylabel('Density');"
   ]
  },
  {
   "cell_type": "markdown",
   "metadata": {},
   "source": [
    "## Question\n",
    "According to the histogram, about what proportion of all members of congress were born between 1840 and 1880?"
   ]
  },
  {
   "cell_type": "code",
   "execution_count": 7,
   "metadata": {},
   "outputs": [
    {
     "data": {
      "text/plain": [
       "0.24"
      ]
     },
     "execution_count": 7,
     "metadata": {},
     "output_type": "execute_result"
    }
   ],
   "source": [
    "0.006 * (40)"
   ]
  },
  {
   "cell_type": "markdown",
   "metadata": {},
   "source": [
    "## Question\n",
    "How do you compute the exact proportion using Pandas?"
   ]
  },
  {
   "cell_type": "code",
   "execution_count": 8,
   "metadata": {},
   "outputs": [
    {
     "data": {
      "text/plain": [
       "0.2316605401949816"
      ]
     },
     "execution_count": 8,
     "metadata": {},
     "output_type": "execute_result"
    }
   ],
   "source": [
    "# Solution 1\n",
    "bday = legs['birthday']\n",
    "sum((bday.dt.year >= 1840) & (bday.dt.year < 1880)) / len(bday)"
   ]
  },
  {
   "cell_type": "code",
   "execution_count": 9,
   "metadata": {},
   "outputs": [
    {
     "data": {
      "text/plain": [
       "0.24237103921076833"
      ]
     },
     "execution_count": 9,
     "metadata": {},
     "output_type": "execute_result"
    }
   ],
   "source": [
    "# Solution 2\n",
    "sum((bday.dt.year >= 1840) & (bday.dt.year < 1880)) / len(bday.dropna())"
   ]
  },
  {
   "cell_type": "code",
   "execution_count": 10,
   "metadata": {},
   "outputs": [
    {
     "data": {
      "text/plain": [
       "False    11961\n",
       "True       553\n",
       "Name: birthday, dtype: int64"
      ]
     },
     "execution_count": 10,
     "metadata": {},
     "output_type": "execute_result"
    }
   ],
   "source": [
    "bday.isnull().value_counts()"
   ]
  },
  {
   "cell_type": "code",
   "execution_count": 11,
   "metadata": {},
   "outputs": [
    {
     "data": {
      "text/plain": [
       "0.04419050663257152"
      ]
     },
     "execution_count": 11,
     "metadata": {},
     "output_type": "execute_result"
    }
   ],
   "source": [
    "sum(bday.isnull()) / len(bday)"
   ]
  },
  {
   "cell_type": "markdown",
   "metadata": {},
   "source": [
    "# Question\n",
    "How do you think the missing birthdays bias the birthyear distribution?\n",
    "\n",
    "```\n",
    "(a) Low bins have too little density\n",
    "(b) High bins have too little density\n",
    "(c) All bins have too little density\n",
    "(d) Impossible to tell\n",
    "```\n",
    "\n",
    "Could inspecting the data further help answer this question?"
   ]
  },
  {
   "cell_type": "code",
   "execution_count": 12,
   "metadata": {},
   "outputs": [
    {
     "data": {
      "image/png": "[encoded data removed]",
      "text/plain": [
       "<Figure size 432x288 with 1 Axes>"
      ]
     },
     "metadata": {
      "needs_background": "light"
     },
     "output_type": "display_data"
    }
   ],
   "source": [
    "legs['birthday'].plot();"
   ]
  },
  {
   "cell_type": "markdown",
   "metadata": {},
   "source": [
    "## Question\n",
    "\n",
    "How would you better visualize the rate of missing values?"
   ]
  },
  {
   "cell_type": "code",
   "execution_count": 13,
   "metadata": {},
   "outputs": [
    {
     "data": {
      "image/png": "[encoded data removed]",
      "text/plain": [
       "<Figure size 432x288 with 1 Axes>"
      ]
     },
     "metadata": {
      "needs_background": "light"
     },
     "output_type": "display_data"
    }
   ],
   "source": [
    "plt.plot(np.cumsum(bday.isnull())/np.arange(len(bday)));\n",
    "plt.xlabel('Index in legs table')\n",
    "plt.ylabel('Cumulative missing birthday rate');"
   ]
  },
  {
   "cell_type": "code",
   "execution_count": 14,
   "metadata": {},
   "outputs": [
    {
     "data": {
      "image/png": "[encoded data removed]",
      "text/plain": [
       "<Figure size 432x288 with 1 Axes>"
      ]
     },
     "metadata": {
      "needs_background": "light"
     },
     "output_type": "display_data"
    }
   ],
   "source": [
    "bday.isnull().rolling(200).mean().plot();\n",
    "plt.xlabel('Index in legs table')\n",
    "plt.ylabel('Rolling mean of missing birthday rate');"
   ]
  },
  {
   "cell_type": "markdown",
   "metadata": {},
   "source": [
    "# Data Cleaning"
   ]
  },
  {
   "cell_type": "code",
   "execution_count": 15,
   "metadata": {},
   "outputs": [
    {
     "data": {
      "text/plain": [
       "{'id': {'bioguide': 'B000226',\n",
       "  'govtrack': 401222,\n",
       "  'icpsr': 507,\n",
       "  'wikipedia': 'Richard Bassett (politician)',\n",
       "  'wikidata': 'Q518823',\n",
       "  'google_entity_id': 'kg:/m/02pz46'},\n",
       " 'name': {'first': 'Richard', 'last': 'Bassett'},\n",
       " 'bio': {'birthday': '1745-04-02', 'gender': 'M'},\n",
       " 'terms': [{'type': 'sen',\n",
       "   'start': '1789-03-04',\n",
       "   'end': '1793-03-03',\n",
       "   'state': 'DE',\n",
       "   'class': 2,\n",
       "   'party': 'Anti-Administration'}]}"
      ]
     },
     "execution_count": 15,
     "metadata": {},
     "output_type": "execute_result"
    }
   ],
   "source": [
    "past_data[0]"
   ]
  },
  {
   "cell_type": "markdown",
   "metadata": {},
   "source": [
    "## Question\n",
    "\n",
    "What will be the granularity of a table that includes term information?"
   ]
  },
  {
   "cell_type": "code",
   "execution_count": 16,
   "metadata": {},
   "outputs": [
    {
     "data": {
      "text/plain": [
       "{'id': {'bioguide': 'H000717',\n",
       "  'govtrack': 405569,\n",
       "  'icpsr': 4518,\n",
       "  'wikipedia': 'Elmer J. Holland',\n",
       "  'house_history': 15170,\n",
       "  'wikidata': 'Q5366586',\n",
       "  'google_entity_id': 'kg:/m/0dn46g'},\n",
       " 'name': {'first': 'Elmer', 'middle': 'Joseph', 'last': 'Holland'},\n",
       " 'bio': {'birthday': '1894-01-08', 'gender': 'M'},\n",
       " 'terms': [{'type': 'rep',\n",
       "   'start': '1941-01-03',\n",
       "   'end': '1943-01-03',\n",
       "   'state': 'PA',\n",
       "   'district': 33,\n",
       "   'party': 'Democrat'},\n",
       "  {'type': 'rep',\n",
       "   'start': '1955-01-05',\n",
       "   'end': '1957-01-03',\n",
       "   'state': 'PA',\n",
       "   'district': 30,\n",
       "   'party': 'Democrat'},\n",
       "  {'type': 'rep',\n",
       "   'start': '1957-01-03',\n",
       "   'end': '1959-01-03',\n",
       "   'state': 'PA',\n",
       "   'district': 30,\n",
       "   'party': 'Democrat'},\n",
       "  {'type': 'rep',\n",
       "   'start': '1959-01-07',\n",
       "   'end': '1961-01-03',\n",
       "   'state': 'PA',\n",
       "   'district': 30,\n",
       "   'party': 'Democrat'},\n",
       "  {'type': 'rep',\n",
       "   'start': '1961-01-03',\n",
       "   'end': '1963-01-03',\n",
       "   'state': 'PA',\n",
       "   'district': 30,\n",
       "   'party': 'Democrat'},\n",
       "  {'type': 'rep',\n",
       "   'start': '1963-01-09',\n",
       "   'end': '1965-01-03',\n",
       "   'state': 'PA',\n",
       "   'district': 20,\n",
       "   'party': 'Democrat'},\n",
       "  {'type': 'rep',\n",
       "   'start': '1965-01-04',\n",
       "   'end': '1967-01-03',\n",
       "   'state': 'PA',\n",
       "   'district': 20,\n",
       "   'party': 'Democrat'},\n",
       "  {'type': 'rep',\n",
       "   'start': '1967-01-10',\n",
       "   'end': '1969-01-03',\n",
       "   'state': 'PA',\n",
       "   'district': 20,\n",
       "   'party': 'Democrat'}]}"
      ]
     },
     "execution_count": 16,
     "metadata": {},
     "output_type": "execute_result"
    }
   ],
   "source": [
    "past_data[10000]"
   ]
  },
  {
   "cell_type": "code",
   "execution_count": 18,
   "metadata": {},
   "outputs": [
    {
     "data": {
      "text/html": [
       "<div>\n",
       "<style scoped>\n",
       "    .dataframe tbody tr th:only-of-type {\n",
       "        vertical-align: middle;\n",
       "    }\n",
       "\n",
       "    .dataframe tbody tr th {\n",
       "        vertical-align: top;\n",
       "    }\n",
       "\n",
       "    .dataframe thead th {\n",
       "        text-align: right;\n",
       "    }\n",
       "</style>\n",
       "<table border=\"1\" class=\"dataframe\">\n",
       "  <thead>\n",
       "    <tr style=\"text-align: right;\">\n",
       "      <th></th>\n",
       "      <th>leg_id</th>\n",
       "      <th>term</th>\n",
       "      <th>type</th>\n",
       "      <th>start</th>\n",
       "      <th>end</th>\n",
       "      <th>state</th>\n",
       "      <th>party</th>\n",
       "    </tr>\n",
       "  </thead>\n",
       "  <tbody>\n",
       "    <tr>\n",
       "      <th>0</th>\n",
       "      <td>B000226</td>\n",
       "      <td>1</td>\n",
       "      <td>sen</td>\n",
       "      <td>1789-03-04</td>\n",
       "      <td>1793-03-03</td>\n",
       "      <td>DE</td>\n",
       "      <td>Anti-Administration</td>\n",
       "    </tr>\n",
       "    <tr>\n",
       "      <th>1</th>\n",
       "      <td>B000546</td>\n",
       "      <td>1</td>\n",
       "      <td>rep</td>\n",
       "      <td>1789-03-04</td>\n",
       "      <td>1791-03-03</td>\n",
       "      <td>VA</td>\n",
       "      <td>None</td>\n",
       "    </tr>\n",
       "    <tr>\n",
       "      <th>2</th>\n",
       "      <td>B001086</td>\n",
       "      <td>1</td>\n",
       "      <td>rep</td>\n",
       "      <td>1789-03-04</td>\n",
       "      <td>1791-03-03</td>\n",
       "      <td>SC</td>\n",
       "      <td>None</td>\n",
       "    </tr>\n",
       "    <tr>\n",
       "      <th>...</th>\n",
       "      <td>...</td>\n",
       "      <td>...</td>\n",
       "      <td>...</td>\n",
       "      <td>...</td>\n",
       "      <td>...</td>\n",
       "      <td>...</td>\n",
       "      <td>...</td>\n",
       "    </tr>\n",
       "    <tr>\n",
       "      <th>43998</th>\n",
       "      <td>M001197</td>\n",
       "      <td>3</td>\n",
       "      <td>sen</td>\n",
       "      <td>2019-01-03</td>\n",
       "      <td>2021-01-03</td>\n",
       "      <td>AZ</td>\n",
       "      <td>Republican</td>\n",
       "    </tr>\n",
       "    <tr>\n",
       "      <th>43999</th>\n",
       "      <td>G000592</td>\n",
       "      <td>1</td>\n",
       "      <td>rep</td>\n",
       "      <td>2019-01-03</td>\n",
       "      <td>2021-01-03</td>\n",
       "      <td>ME</td>\n",
       "      <td>Democrat</td>\n",
       "    </tr>\n",
       "    <tr>\n",
       "      <th>44000</th>\n",
       "      <td>K000395</td>\n",
       "      <td>1</td>\n",
       "      <td>rep</td>\n",
       "      <td>2019-06-03</td>\n",
       "      <td>2021-01-03</td>\n",
       "      <td>PA</td>\n",
       "      <td>Republican</td>\n",
       "    </tr>\n",
       "  </tbody>\n",
       "</table>\n",
       "<p>44001 rows × 7 columns</p>\n",
       "</div>"
      ],
      "text/plain": [
       "        leg_id  term type      start        end state                party\n",
       "0      B000226     1  sen 1789-03-04 1793-03-03    DE  Anti-Administration\n",
       "1      B000546     1  rep 1789-03-04 1791-03-03    VA                 None\n",
       "2      B001086     1  rep 1789-03-04 1791-03-03    SC                 None\n",
       "...        ...   ...  ...        ...        ...   ...                  ...\n",
       "43998  M001197     3  sen 2019-01-03 2021-01-03    AZ           Republican\n",
       "43999  G000592     1  rep 2019-01-03 2021-01-03    ME             Democrat\n",
       "44000  K000395     1  rep 2019-06-03 2021-01-03    PA           Republican\n",
       "\n",
       "[44001 rows x 7 columns]"
      ]
     },
     "execution_count": 18,
     "metadata": {},
     "output_type": "execute_result"
    }
   ],
   "source": [
    "columns=['leg_id', 'term', 'type', 'start', 'end', 'state', 'party']\n",
    "data = []\n",
    "for x in past_data + current_data:\n",
    "    for i, t in enumerate(x['terms']):\n",
    "        data.append([\n",
    "            x['id']['bioguide'], \n",
    "            i + 1,\n",
    "            t['type'],\n",
    "            pd.to_datetime(t['start'], yearfirst=True),\n",
    "            pd.to_datetime(t['end'], yearfirst=True),\n",
    "            t['state'],\n",
    "            t.get('party'),\n",
    "        ])\n",
    "        \n",
    "terms = pd.DataFrame(columns=columns, data=data)\n",
    "terms"
   ]
  },
  {
   "cell_type": "code",
   "execution_count": 22,
   "metadata": {},
   "outputs": [
    {
     "data": {
      "text/plain": [
       "(44001, 7)"
      ]
     },
     "execution_count": 22,
     "metadata": {},
     "output_type": "execute_result"
    }
   ],
   "source": [
    "terms.shape"
   ]
  },
  {
   "cell_type": "code",
   "execution_count": 26,
   "metadata": {},
   "outputs": [
    {
     "data": {
      "text/plain": [
       "leg_id   start     \n",
       "A000083  1881-12-05    2\n",
       "S001073  1801-12-07    2\n",
       "V000074  1811-11-04    2\n",
       "M000034  1815-12-04    2\n",
       "W000238  1827-12-03    2\n",
       "L000393  1893-08-07    2\n",
       "C000150  1861-07-04    2\n",
       "A000130  1889-12-02    2\n",
       "G000414  1857-12-07    2\n",
       "B000769  1905-12-04    2\n",
       "R000063  1851-12-01    2\n",
       "B000434  1813-05-24    2\n",
       "G000071  1955-01-05    1\n",
       "         1953-01-03    1\n",
       "         1951-01-03    1\n",
       "dtype: int64"
      ]
     },
     "metadata": {},
     "output_type": "display_data"
    }
   ],
   "source": [
    "display_df(\n",
    "    terms.groupby(['leg_id', 'start']).size().sort_values(ascending=False).head(15),\n",
    "    15\n",
    ")"
   ]
  },
  {
   "cell_type": "code",
   "execution_count": 28,
   "metadata": {},
   "outputs": [
    {
     "data": {
      "text/plain": [
       "Democrat                      20447\n",
       "Republican                    18868\n",
       "Whig                           1203\n",
       "Jackson                         880\n",
       "Federalist                      819\n",
       "Adams                           256\n",
       "Ind. Republican-Democrat        128\n",
       "American                         84\n",
       "Anti Masonic                     77\n",
       "Unionist                         77\n",
       "Populist                         68\n",
       "Anti Jacksonian                  56\n",
       "Independent                      46\n",
       "Progressive                      43\n",
       "Jacksonian                       39\n",
       "                              ...  \n",
       "Democrat-Liberal                  1\n",
       "Liberal                           1\n",
       "Pro-administration                1\n",
       "Jacksonian Republican             1\n",
       "Republican-Conservative           1\n",
       "Progressive Republican            1\n",
       "Free Silver                       1\n",
       "Liberty                           1\n",
       "Nonpartisan                       1\n",
       "Adams Democrat                    1\n",
       "Democratic and Union Labor        1\n",
       "Union Democrat                    1\n",
       "Anti Jackson                      1\n",
       "AL                                1\n",
       "Silver                            1\n",
       "Name: party, Length: 66, dtype: int64"
      ]
     },
     "metadata": {},
     "output_type": "display_data"
    }
   ],
   "source": [
    "display_df(terms['party'].value_counts(), 30)"
   ]
  },
  {
   "cell_type": "code",
   "execution_count": 30,
   "metadata": {},
   "outputs": [
    {
     "data": {
      "text/plain": [
       "Democrat                    20447\n",
       "Republican                  18868\n",
       "Whig                         1203\n",
       "Jackson                       880\n",
       "Federalist                    819\n",
       "Adams                         256\n",
       "Ind. Republican-Democrat      128\n",
       "American                       84\n",
       "Name: party, dtype: int64"
      ]
     },
     "metadata": {},
     "output_type": "display_data"
    }
   ],
   "source": [
    "display_df(terms['party'].value_counts().head(8), 8)"
   ]
  },
  {
   "cell_type": "markdown",
   "metadata": {},
   "source": [
    "## Question\n",
    "\n",
    "How many terms were under the American party and smaller parties?"
   ]
  },
  {
   "cell_type": "code",
   "execution_count": 31,
   "metadata": {},
   "outputs": [
    {
     "data": {
      "text/plain": [
       "941"
      ]
     },
     "execution_count": 31,
     "metadata": {},
     "output_type": "execute_result"
    }
   ],
   "source": [
    "sum(terms['party'].value_counts().loc['American':])"
   ]
  },
  {
   "cell_type": "code",
   "execution_count": 32,
   "metadata": {},
   "outputs": [
    {
     "data": {
      "text/plain": [
       "941"
      ]
     },
     "execution_count": 32,
     "metadata": {},
     "output_type": "execute_result"
    }
   ],
   "source": [
    "sum(terms['party'].value_counts().iloc[7:])"
   ]
  },
  {
   "cell_type": "code",
   "execution_count": 33,
   "metadata": {},
   "outputs": [
    {
     "data": {
      "text/plain": [
       "False    43542\n",
       "True       459\n",
       "Name: party, dtype: int64"
      ]
     },
     "execution_count": 33,
     "metadata": {},
     "output_type": "execute_result"
    }
   ],
   "source": [
    "terms['party'].isnull().value_counts()"
   ]
  },
  {
   "cell_type": "markdown",
   "metadata": {},
   "source": [
    "# Question\n",
    "\n",
    "What proportion of all members of congress ever changed parties?"
   ]
  },
  {
   "cell_type": "code",
   "execution_count": 34,
   "metadata": {},
   "outputs": [
    {
     "data": {
      "text/plain": [
       "1    11657\n",
       "2      694\n",
       "3      146\n",
       "4       14\n",
       "5        2\n",
       "6        1\n",
       "Name: party, dtype: int64"
      ]
     },
     "execution_count": 34,
     "metadata": {},
     "output_type": "execute_result"
    }
   ],
   "source": [
    "parties = (terms['party']\n",
    "           .groupby(terms['leg_id'])\n",
    "           .agg(lambda s: len(set(s)))) # Also .nunique()\n",
    "\n",
    "parties.value_counts()"
   ]
  },
  {
   "cell_type": "code",
   "execution_count": 35,
   "metadata": {},
   "outputs": [
    {
     "data": {
      "text/plain": [
       "0.06848329870544989"
      ]
     },
     "execution_count": 35,
     "metadata": {},
     "output_type": "execute_result"
    }
   ],
   "source": [
    "sum(parties > 1) / len(parties)"
   ]
  },
  {
   "cell_type": "code",
   "execution_count": 36,
   "metadata": {},
   "outputs": [
    {
     "data": {
      "text/plain": [
       "1    11588\n",
       "2      643\n",
       "0      167\n",
       "3      101\n",
       "4       12\n",
       "5        2\n",
       "6        1\n",
       "Name: party, dtype: int64"
      ]
     },
     "execution_count": 36,
     "metadata": {},
     "output_type": "execute_result"
    }
   ],
   "source": [
    "counts = terms.groupby('leg_id').nunique()\n",
    "counts['party'].value_counts()"
   ]
  },
  {
   "cell_type": "code",
   "execution_count": 37,
   "metadata": {},
   "outputs": [
    {
     "data": {
      "text/plain": [
       "1    12454\n",
       "2       58\n",
       "3        2\n",
       "Name: state, dtype: int64"
      ]
     },
     "execution_count": 37,
     "metadata": {},
     "output_type": "execute_result"
    }
   ],
   "source": [
    "counts['state'].value_counts()"
   ]
  },
  {
   "cell_type": "markdown",
   "metadata": {},
   "source": [
    "# Visualization"
   ]
  },
  {
   "cell_type": "code",
   "execution_count": 41,
   "metadata": {},
   "outputs": [
    {
     "data": {
      "text/html": [
       "<div>\n",
       "<style scoped>\n",
       "    .dataframe tbody tr th:only-of-type {\n",
       "        vertical-align: middle;\n",
       "    }\n",
       "\n",
       "    .dataframe tbody tr th {\n",
       "        vertical-align: top;\n",
       "    }\n",
       "\n",
       "    .dataframe thead th {\n",
       "        text-align: right;\n",
       "    }\n",
       "</style>\n",
       "<table border=\"1\" class=\"dataframe\">\n",
       "  <thead>\n",
       "    <tr style=\"text-align: right;\">\n",
       "      <th></th>\n",
       "      <th>leg_id</th>\n",
       "      <th>term</th>\n",
       "      <th>type</th>\n",
       "      <th>start</th>\n",
       "      <th>end</th>\n",
       "      <th>state</th>\n",
       "      <th>party</th>\n",
       "    </tr>\n",
       "    <tr>\n",
       "      <th>start</th>\n",
       "      <th></th>\n",
       "      <th></th>\n",
       "      <th></th>\n",
       "      <th></th>\n",
       "      <th></th>\n",
       "      <th></th>\n",
       "      <th></th>\n",
       "    </tr>\n",
       "  </thead>\n",
       "  <tbody>\n",
       "    <tr>\n",
       "      <th>1789-03-04</th>\n",
       "      <td>90</td>\n",
       "      <td>1</td>\n",
       "      <td>2</td>\n",
       "      <td>1</td>\n",
       "      <td>4</td>\n",
       "      <td>13</td>\n",
       "      <td>6</td>\n",
       "    </tr>\n",
       "    <tr>\n",
       "      <th>1790-01-01</th>\n",
       "      <td>5</td>\n",
       "      <td>1</td>\n",
       "      <td>1</td>\n",
       "      <td>1</td>\n",
       "      <td>4</td>\n",
       "      <td>3</td>\n",
       "      <td>3</td>\n",
       "    </tr>\n",
       "    <tr>\n",
       "      <th>1791-03-04</th>\n",
       "      <td>1</td>\n",
       "      <td>1</td>\n",
       "      <td>1</td>\n",
       "      <td>1</td>\n",
       "      <td>1</td>\n",
       "      <td>1</td>\n",
       "      <td>0</td>\n",
       "    </tr>\n",
       "    <tr>\n",
       "      <th>...</th>\n",
       "      <td>...</td>\n",
       "      <td>...</td>\n",
       "      <td>...</td>\n",
       "      <td>...</td>\n",
       "      <td>...</td>\n",
       "      <td>...</td>\n",
       "      <td>...</td>\n",
       "    </tr>\n",
       "    <tr>\n",
       "      <th>2019-01-04</th>\n",
       "      <td>1</td>\n",
       "      <td>1</td>\n",
       "      <td>1</td>\n",
       "      <td>1</td>\n",
       "      <td>1</td>\n",
       "      <td>1</td>\n",
       "      <td>1</td>\n",
       "    </tr>\n",
       "    <tr>\n",
       "      <th>2019-01-08</th>\n",
       "      <td>1</td>\n",
       "      <td>1</td>\n",
       "      <td>1</td>\n",
       "      <td>1</td>\n",
       "      <td>1</td>\n",
       "      <td>1</td>\n",
       "      <td>1</td>\n",
       "    </tr>\n",
       "    <tr>\n",
       "      <th>2019-06-03</th>\n",
       "      <td>1</td>\n",
       "      <td>1</td>\n",
       "      <td>1</td>\n",
       "      <td>1</td>\n",
       "      <td>1</td>\n",
       "      <td>1</td>\n",
       "      <td>1</td>\n",
       "    </tr>\n",
       "  </tbody>\n",
       "</table>\n",
       "<p>583 rows × 7 columns</p>\n",
       "</div>"
      ],
      "text/plain": [
       "            leg_id  term  type  start  end  state  party\n",
       "start                                                   \n",
       "1789-03-04      90     1     2      1    4     13      6\n",
       "1790-01-01       5     1     1      1    4      3      3\n",
       "1791-03-04       1     1     1      1    1      1      0\n",
       "...            ...   ...   ...    ...  ...    ...    ...\n",
       "2019-01-04       1     1     1      1    1      1      1\n",
       "2019-01-08       1     1     1      1    1      1      1\n",
       "2019-06-03       1     1     1      1    1      1      1\n",
       "\n",
       "[583 rows x 7 columns]"
      ]
     },
     "execution_count": 41,
     "metadata": {},
     "output_type": "execute_result"
    }
   ],
   "source": [
    "a = terms.groupby('start')\n",
    "starts = a.nunique()\n",
    "starts"
   ]
  },
  {
   "cell_type": "markdown",
   "metadata": {},
   "source": [
    "## Question\n",
    "\n",
    "What visualization will help determine which term starts follow from national elections?\n",
    "\n",
    "```\n",
    "(a) A histogram of start values in terms\n",
    "(b) A line plot of start values in terms\n",
    "(c) A histogram of leg_id values in starts\n",
    "(d) A line plot of leg_id values in starts\n",
    "```\n",
    "\n",
    "How would you use this visualization to focus future analysis on the composition of congress after each national election?"
   ]
  },
  {
   "cell_type": "code",
   "execution_count": 42,
   "metadata": {},
   "outputs": [
    {
     "data": {
      "image/png": "[encoded data removed]",
      "text/plain": [
       "<Figure size 432x288 with 1 Axes>"
      ]
     },
     "metadata": {
      "needs_background": "light"
     },
     "output_type": "display_data"
    }
   ],
   "source": [
    "plt.plot(starts['leg_id']);"
   ]
  },
  {
   "cell_type": "code",
   "execution_count": 43,
   "metadata": {},
   "outputs": [
    {
     "data": {
      "image/png": "[encoded data removed]",
      "text/plain": [
       "<Figure size 432x288 with 1 Axes>"
      ]
     },
     "metadata": {
      "needs_background": "light"
     },
     "output_type": "display_data"
    }
   ],
   "source": [
    "plt.plot(starts['leg_id'].sort_values(ascending=False).values);"
   ]
  },
  {
   "cell_type": "code",
   "execution_count": 44,
   "metadata": {},
   "outputs": [
    {
     "data": {
      "image/png": "[encoded data removed]",
      "text/plain": [
       "<Figure size 432x288 with 1 Axes>"
      ]
     },
     "metadata": {
      "needs_background": "light"
     },
     "output_type": "display_data"
    }
   ],
   "source": [
    "plt.hist(starts['leg_id'], bins=20, log=True);"
   ]
  },
  {
   "cell_type": "code",
   "execution_count": 45,
   "metadata": {},
   "outputs": [
    {
     "data": {
      "text/plain": [
       "0"
      ]
     },
     "execution_count": 45,
     "metadata": {},
     "output_type": "execute_result"
    }
   ],
   "source": [
    "sum((starts['leg_id'] > 15) & (starts['leg_id'] < 80))"
   ]
  },
  {
   "cell_type": "code",
   "execution_count": 46,
   "metadata": {},
   "outputs": [
    {
     "data": {
      "text/plain": [
       "DatetimeIndex(['1789-03-04', '1791-10-24', '1793-12-02', '1795-12-07',\n",
       "               '1797-05-15', '1799-12-02', '1801-12-07', '1803-10-17',\n",
       "               '1805-12-02', '1807-10-26',\n",
       "               ...\n",
       "               '2001-01-03', '2003-01-07', '2005-01-04', '2007-01-04',\n",
       "               '2009-01-06', '2011-01-05', '2013-01-03', '2015-01-06',\n",
       "               '2017-01-03', '2019-01-03'],\n",
       "              dtype='datetime64[ns]', name='start', length=116, freq=None)"
      ]
     },
     "execution_count": 46,
     "metadata": {},
     "output_type": "execute_result"
    }
   ],
   "source": [
    "starts[starts['leg_id'] > 15].index"
   ]
  },
  {
   "cell_type": "code",
   "execution_count": 47,
   "metadata": {},
   "outputs": [
    {
     "data": {
      "text/plain": [
       "DatetimeIndex(['1941-01-25', '1943-01-25', '1945-01-25', '1947-01-25',\n",
       "               '1949-01-25', '1951-01-25', '1953-01-25', '1955-01-25',\n",
       "               '1957-01-25', '1959-01-25', '1961-01-25', '1963-01-25',\n",
       "               '1965-01-25', '1967-01-25', '1969-01-25', '1971-01-25',\n",
       "               '1973-01-25', '1975-01-25', '1977-01-25', '1979-01-25',\n",
       "               '1981-01-25', '1983-01-25', '1985-01-25', '1987-01-25',\n",
       "               '1989-01-25', '1991-01-25', '1993-01-25', '1995-01-25',\n",
       "               '1997-01-25', '1999-01-25', '2001-01-25', '2003-01-25',\n",
       "               '2005-01-25', '2007-01-25', '2009-01-25', '2011-01-25',\n",
       "               '2013-01-25', '2015-01-25', '2017-01-25', '2019-01-25'],\n",
       "              dtype='datetime64[ns]', freq=None)"
      ]
     },
     "execution_count": 47,
     "metadata": {},
     "output_type": "execute_result"
    }
   ],
   "source": [
    "biannual = pd.to_datetime([f'01-25-{n}' for n in range(1941, 2020, 2)])\n",
    "biannual"
   ]
  },
  {
   "cell_type": "markdown",
   "metadata": {},
   "source": [
    "## Question\n",
    "\n",
    "What values/distributions should be visualized to determine whether the members of congress are older now than they used to be?"
   ]
  },
  {
   "cell_type": "markdown",
   "metadata": {},
   "source": [
    "## Question\n",
    "\n",
    "Using SQL, build a table of (term, election_date) pairs that contains the age of the person serving each term."
   ]
  },
  {
   "cell_type": "code",
   "execution_count": 48,
   "metadata": {},
   "outputs": [
    {
     "name": "stdout",
     "output_type": "stream",
     "text": [
      "CREATE TABLE \"terms\" (\n",
      "\"index\" INTEGER,\n",
      "  \"leg_id\" TEXT,\n",
      "  \"term\" INTEGER,\n",
      "  \"type\" TEXT,\n",
      "  \"start\" TIMESTAMP,\n",
      "  \"end\" TIMESTAMP,\n",
      "  \"state\" TEXT,\n",
      "  \"party\" TEXT\n",
      ")\n",
      "CREATE INDEX \"ix_terms_index\"ON \"terms\" (\"index\")\n",
      "CREATE TABLE \"legs\" (\n",
      "\"index\" INTEGER,\n",
      "  \"leg_id\" TEXT,\n",
      "  \"first\" TEXT,\n",
      "  \"last\" TEXT,\n",
      "  \"gender\" TEXT,\n",
      "  \"terms\" INTEGER,\n",
      "  \"birthday\" TIMESTAMP\n",
      ")\n",
      "CREATE INDEX \"ix_legs_index\"ON \"legs\" (\"index\")\n",
      "CREATE TABLE \"elections\" (\n",
      "\"index\" INTEGER,\n",
      "  \"election\" TIMESTAMP\n",
      ")\n",
      "CREATE INDEX \"ix_elections_index\"ON \"elections\" (\"index\")\n"
     ]
    }
   ],
   "source": [
    "import sqlite3\n",
    "conn = sqlite3.connect(':memory:')\n",
    "terms.to_sql('terms', conn)\n",
    "legs.to_sql('legs', conn)\n",
    "pd.DataFrame({'election': biannual}).to_sql('elections', conn)\n",
    "for exp in conn.execute('SELECT sql FROM sqlite_master'):\n",
    "    print(exp[0])"
   ]
  },
  {
   "cell_type": "code",
   "execution_count": 49,
   "metadata": {
    "scrolled": true
   },
   "outputs": [
    {
     "data": {
      "text/html": [
       "<div>\n",
       "<style scoped>\n",
       "    .dataframe tbody tr th:only-of-type {\n",
       "        vertical-align: middle;\n",
       "    }\n",
       "\n",
       "    .dataframe tbody tr th {\n",
       "        vertical-align: top;\n",
       "    }\n",
       "\n",
       "    .dataframe thead th {\n",
       "        text-align: right;\n",
       "    }\n",
       "</style>\n",
       "<table border=\"1\" class=\"dataframe\">\n",
       "  <thead>\n",
       "    <tr style=\"text-align: right;\">\n",
       "      <th></th>\n",
       "      <th>election</th>\n",
       "      <th>state</th>\n",
       "      <th>party</th>\n",
       "      <th>gender</th>\n",
       "      <th>...</th>\n",
       "      <th>last</th>\n",
       "      <th>birthday</th>\n",
       "      <th>age</th>\n",
       "      <th>chamber</th>\n",
       "    </tr>\n",
       "  </thead>\n",
       "  <tbody>\n",
       "    <tr>\n",
       "      <th>0</th>\n",
       "      <td>1941-01-25 00:00:00</td>\n",
       "      <td>MI</td>\n",
       "      <td>Democrat</td>\n",
       "      <td>M</td>\n",
       "      <td>...</td>\n",
       "      <td>Brown</td>\n",
       "      <td>1889-06-18 00:00:00</td>\n",
       "      <td>52.0</td>\n",
       "      <td>Senate</td>\n",
       "    </tr>\n",
       "    <tr>\n",
       "      <th>1</th>\n",
       "      <td>1941-01-25 00:00:00</td>\n",
       "      <td>SD</td>\n",
       "      <td>Democrat</td>\n",
       "      <td>M</td>\n",
       "      <td>...</td>\n",
       "      <td>Bulow</td>\n",
       "      <td>1869-01-13 00:00:00</td>\n",
       "      <td>72.0</td>\n",
       "      <td>Senate</td>\n",
       "    </tr>\n",
       "    <tr>\n",
       "      <th>2</th>\n",
       "      <td>1941-01-25 00:00:00</td>\n",
       "      <td>SC</td>\n",
       "      <td>Democrat</td>\n",
       "      <td>M</td>\n",
       "      <td>...</td>\n",
       "      <td>Byrnes</td>\n",
       "      <td>1882-05-02 00:00:00</td>\n",
       "      <td>59.0</td>\n",
       "      <td>Senate</td>\n",
       "    </tr>\n",
       "    <tr>\n",
       "      <th>3</th>\n",
       "      <td>1941-01-25 00:00:00</td>\n",
       "      <td>MS</td>\n",
       "      <td>Democrat</td>\n",
       "      <td>M</td>\n",
       "      <td>...</td>\n",
       "      <td>Harrison</td>\n",
       "      <td>1881-08-29 00:00:00</td>\n",
       "      <td>60.0</td>\n",
       "      <td>Senate</td>\n",
       "    </tr>\n",
       "    <tr>\n",
       "      <th>4</th>\n",
       "      <td>1941-01-25 00:00:00</td>\n",
       "      <td>IA</td>\n",
       "      <td>Democrat</td>\n",
       "      <td>M</td>\n",
       "      <td>...</td>\n",
       "      <td>Herring</td>\n",
       "      <td>1879-05-03 00:00:00</td>\n",
       "      <td>62.0</td>\n",
       "      <td>Senate</td>\n",
       "    </tr>\n",
       "  </tbody>\n",
       "</table>\n",
       "<p>5 rows × 9 columns</p>\n",
       "</div>"
      ],
      "text/plain": [
       "              election state     party gender  ...      last  \\\n",
       "0  1941-01-25 00:00:00    MI  Democrat      M  ...     Brown   \n",
       "1  1941-01-25 00:00:00    SD  Democrat      M  ...     Bulow   \n",
       "2  1941-01-25 00:00:00    SC  Democrat      M  ...    Byrnes   \n",
       "3  1941-01-25 00:00:00    MS  Democrat      M  ...  Harrison   \n",
       "4  1941-01-25 00:00:00    IA  Democrat      M  ...   Herring   \n",
       "\n",
       "              birthday   age  chamber  \n",
       "0  1889-06-18 00:00:00  52.0   Senate  \n",
       "1  1869-01-13 00:00:00  72.0   Senate  \n",
       "2  1882-05-02 00:00:00  59.0   Senate  \n",
       "3  1881-08-29 00:00:00  60.0   Senate  \n",
       "4  1879-05-03 00:00:00  62.0   Senate  \n",
       "\n",
       "[5 rows x 9 columns]"
      ]
     },
     "execution_count": 49,
     "metadata": {},
     "output_type": "execute_result"
    }
   ],
   "source": [
    "query = \"\"\"\n",
    "    SELECT election, state, party, \n",
    "           gender, first, last, \n",
    "           birthday, election - birthday AS age,\n",
    "           CASE type WHEN \"sen\" THEN \"Senate\"\n",
    "                     WHEN \"rep\" THEN \"House\" END AS chamber\n",
    "    FROM terms, legs, elections \n",
    "    WHERE start <= election AND election < end AND \n",
    "          terms.leg_id=legs.leg_id\n",
    "    \"\"\"\n",
    "\n",
    "df = pd.read_sql(query, conn)\n",
    "df.head()"
   ]
  },
  {
   "cell_type": "code",
   "execution_count": 50,
   "metadata": {},
   "outputs": [
    {
     "data": {
      "text/html": [
       "<div>\n",
       "<style scoped>\n",
       "    .dataframe tbody tr th:only-of-type {\n",
       "        vertical-align: middle;\n",
       "    }\n",
       "\n",
       "    .dataframe tbody tr th {\n",
       "        vertical-align: top;\n",
       "    }\n",
       "\n",
       "    .dataframe thead th {\n",
       "        text-align: right;\n",
       "    }\n",
       "</style>\n",
       "<table border=\"1\" class=\"dataframe\">\n",
       "  <thead>\n",
       "    <tr style=\"text-align: right;\">\n",
       "      <th></th>\n",
       "      <th>election</th>\n",
       "      <th>state</th>\n",
       "      <th>party</th>\n",
       "      <th>gender</th>\n",
       "      <th>...</th>\n",
       "      <th>last</th>\n",
       "      <th>birthday</th>\n",
       "      <th>age</th>\n",
       "      <th>chamber</th>\n",
       "    </tr>\n",
       "  </thead>\n",
       "  <tbody>\n",
       "    <tr>\n",
       "      <th>0</th>\n",
       "      <td>1941-01-25</td>\n",
       "      <td>MI</td>\n",
       "      <td>Democrat</td>\n",
       "      <td>M</td>\n",
       "      <td>...</td>\n",
       "      <td>Brown</td>\n",
       "      <td>1889-06-18</td>\n",
       "      <td>52.0</td>\n",
       "      <td>Senate</td>\n",
       "    </tr>\n",
       "    <tr>\n",
       "      <th>1</th>\n",
       "      <td>1941-01-25</td>\n",
       "      <td>SD</td>\n",
       "      <td>Democrat</td>\n",
       "      <td>M</td>\n",
       "      <td>...</td>\n",
       "      <td>Bulow</td>\n",
       "      <td>1869-01-13</td>\n",
       "      <td>72.0</td>\n",
       "      <td>Senate</td>\n",
       "    </tr>\n",
       "    <tr>\n",
       "      <th>2</th>\n",
       "      <td>1941-01-25</td>\n",
       "      <td>SC</td>\n",
       "      <td>Democrat</td>\n",
       "      <td>M</td>\n",
       "      <td>...</td>\n",
       "      <td>Byrnes</td>\n",
       "      <td>1882-05-02</td>\n",
       "      <td>59.0</td>\n",
       "      <td>Senate</td>\n",
       "    </tr>\n",
       "    <tr>\n",
       "      <th>3</th>\n",
       "      <td>1941-01-25</td>\n",
       "      <td>MS</td>\n",
       "      <td>Democrat</td>\n",
       "      <td>M</td>\n",
       "      <td>...</td>\n",
       "      <td>Harrison</td>\n",
       "      <td>1881-08-29</td>\n",
       "      <td>60.0</td>\n",
       "      <td>Senate</td>\n",
       "    </tr>\n",
       "    <tr>\n",
       "      <th>4</th>\n",
       "      <td>1941-01-25</td>\n",
       "      <td>IA</td>\n",
       "      <td>Democrat</td>\n",
       "      <td>M</td>\n",
       "      <td>...</td>\n",
       "      <td>Herring</td>\n",
       "      <td>1879-05-03</td>\n",
       "      <td>62.0</td>\n",
       "      <td>Senate</td>\n",
       "    </tr>\n",
       "  </tbody>\n",
       "</table>\n",
       "<p>5 rows × 9 columns</p>\n",
       "</div>"
      ],
      "text/plain": [
       "    election state     party gender  ...      last   birthday   age  chamber\n",
       "0 1941-01-25    MI  Democrat      M  ...     Brown 1889-06-18  52.0   Senate\n",
       "1 1941-01-25    SD  Democrat      M  ...     Bulow 1869-01-13  72.0   Senate\n",
       "2 1941-01-25    SC  Democrat      M  ...    Byrnes 1882-05-02  59.0   Senate\n",
       "3 1941-01-25    MS  Democrat      M  ...  Harrison 1881-08-29  60.0   Senate\n",
       "4 1941-01-25    IA  Democrat      M  ...   Herring 1879-05-03  62.0   Senate\n",
       "\n",
       "[5 rows x 9 columns]"
      ]
     },
     "execution_count": 50,
     "metadata": {},
     "output_type": "execute_result"
    }
   ],
   "source": [
    "df['election'] = pd.to_datetime(df['election'], yearfirst=True)\n",
    "df['birthday'] = pd.to_datetime(df['birthday'], yearfirst=True)\n",
    "df.head()"
   ]
  },
  {
   "cell_type": "code",
   "execution_count": 51,
   "metadata": {},
   "outputs": [
    {
     "data": {
      "text/plain": [
       "(21757, 9)"
      ]
     },
     "execution_count": 51,
     "metadata": {},
     "output_type": "execute_result"
    }
   ],
   "source": [
    "df.shape"
   ]
  },
  {
   "cell_type": "code",
   "execution_count": 76,
   "metadata": {},
   "outputs": [
    {
     "data": {
      "image/png": "[encoded data removed]",
      "text/plain": [
       "<Figure size 432x288 with 1 Axes>"
      ]
     },
     "metadata": {
      "needs_background": "light"
     },
     "output_type": "display_data"
    }
   ],
   "source": [
    "df.groupby('election').size().plot();s"
   ]
  },
  {
   "cell_type": "code",
   "execution_count": 80,
   "metadata": {},
   "outputs": [
    {
     "data": {
      "image/png": "[encoded data removed]",
      "text/plain": [
       "<Figure size 432x288 with 1 Axes>"
      ]
     },
     "metadata": {
      "needs_background": "light"
     },
     "output_type": "display_data"
    }
   ],
   "source": [
    "sns.lineplot(x='election', y='age', data=df);"
   ]
  },
  {
   "cell_type": "code",
   "execution_count": 79,
   "metadata": {},
   "outputs": [
    {
     "data": {
      "text/plain": [
       "<matplotlib.axes._subplots.AxesSubplot at 0x1a1e017e48>"
      ]
     },
     "execution_count": 79,
     "metadata": {},
     "output_type": "execute_result"
    },
    {
     "data": {
      "image/png": "[encoded data removed]",
      "text/plain": [
       "<Figure size 576x360 with 1 Axes>"
      ]
     },
     "metadata": {
      "needs_background": "light"
     },
     "output_type": "display_data"
    }
   ],
   "source": [
    "plt.figure(figsize=(8, 5))\n",
    "sns.lineplot(x='election', y='age', hue='chamber', data=df);"
   ]
  },
  {
   "cell_type": "code",
   "execution_count": 56,
   "metadata": {},
   "outputs": [
    {
     "data": {
      "image/png": "[encoded data removed]",
      "text/plain": [
       "<Figure size 432x288 with 1 Axes>"
      ]
     },
     "metadata": {
      "needs_background": "light"
     },
     "output_type": "display_data"
    }
   ],
   "source": [
    "df[df['election'].dt.year == 2019].hist('age');"
   ]
  },
  {
   "cell_type": "code",
   "execution_count": 97,
   "metadata": {},
   "outputs": [
    {
     "data": {
      "image/png": "[encoded data removed]",
      "text/plain": [
       "<Figure size 720x432 with 1 Axes>"
      ]
     },
     "metadata": {
      "needs_background": "light"
     },
     "output_type": "display_data"
    }
   ],
   "source": [
    "plt.figure(figsize=(10, 6))\n",
    "ax = sns.boxplot(x='election', y='age', data=df)\n",
    "ax.set_xticklabels(df['election'].dt.year.unique(), rotation=90)\n",
    "labels = ax.get_xticklabels();"
   ]
  },
  {
   "cell_type": "markdown",
   "metadata": {},
   "source": [
    "## Question\n",
    "\n",
    "What does the boxplot reveal that was not obvious from the line plot?\n",
    "\n",
    "Why does this boxplot have diagonal lines of outliers?"
   ]
  }
 ],
 "metadata": {
  "kernelspec": {
   "display_name": "Python 3",
   "language": "python",
   "name": "python3"
  },
  "language_info": {
   "codemirror_mode": {
    "name": "ipython",
    "version": 3
   },
   "file_extension": ".py",
   "mimetype": "text/x-python",
   "name": "python",
   "nbconvert_exporter": "python",
   "pygments_lexer": "ipython3",
   "version": "3.7.3"
  }
 },
 "nbformat": 4,
 "nbformat_minor": 2
}
