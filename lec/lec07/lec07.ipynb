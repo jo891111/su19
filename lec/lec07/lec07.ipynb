{
 "cells": [
  {
   "cell_type": "code",
   "execution_count": 1,
   "metadata": {
    "ExecuteTime": {
     "end_time": "2018-02-02T15:15:15.363920Z",
     "start_time": "2018-02-02T15:15:14.337886Z"
    }
   },
   "outputs": [],
   "source": [
    "import numpy as np\n",
    "import matplotlib.pyplot as plt\n",
    "import pandas as pd\n",
    "import seaborn as sns\n",
    "%matplotlib inline"
   ]
  },
  {
   "cell_type": "markdown",
   "metadata": {},
   "source": [
    "## Text Processing and Dates"
   ]
  },
  {
   "cell_type": "code",
   "execution_count": 2,
   "metadata": {},
   "outputs": [
    {
     "name": "stdout",
     "output_type": "stream",
     "text": [
      "169.237.46.168 - - [26/Jan/2014:10:47:58 -0800] \"GET /stat141/Winter04/ HTTP/1.1\" 200 2585 \"http://anson.ucdavis.edu/courses/\"\r\n",
      "193.205.203.3 - - [2/Feb/2005:17:23:6 -0800] \"GET /stat141/Notes/dim.html HTTP/1.0\" 404 302 \"http://eeyore.ucdavis.edu/stat141/Notes/session.html\"\r\n",
      "169.237.46.240 - \"\" [3/Feb/2006:10:18:37 -0800] \"GET /stat141/homework/Solutions/hw1Sol.pdf HTTP/1.1\"\r\n"
     ]
    }
   ],
   "source": [
    "!cat log.txt"
   ]
  },
  {
   "cell_type": "code",
   "execution_count": 3,
   "metadata": {},
   "outputs": [
    {
     "data": {
      "text/plain": [
       "'169.237.46.168 - - [26/Jan/2014:10:47:58 -0800] \"GET /stat141/Winter04/ HTTP/1.1\" 200 2585 \"http://anson.ucdavis.edu/courses/\"\\n'"
      ]
     },
     "execution_count": 3,
     "metadata": {},
     "output_type": "execute_result"
    }
   ],
   "source": [
    "lines = open('log.txt').readlines()\n",
    "first = lines[0]\n",
    "first"
   ]
  },
  {
   "cell_type": "markdown",
   "metadata": {},
   "source": [
    "String manipulation based on character positions."
   ]
  },
  {
   "cell_type": "code",
   "execution_count": 4,
   "metadata": {},
   "outputs": [
    {
     "data": {
      "text/plain": [
       "('2014', 'Jan', '26', '10', '47', '58')"
      ]
     },
     "execution_count": 4,
     "metadata": {},
     "output_type": "execute_result"
    }
   ],
   "source": [
    "time_str = first.split('[', 1)[1].split(' ', 1)[0]\n",
    "day, month, rest = time_str.split('/')\n",
    "year, hour, minute, second = rest.split(':')\n",
    "year, month, day, hour, minute, second"
   ]
  },
  {
   "cell_type": "code",
   "execution_count": 5,
   "metadata": {},
   "outputs": [
    {
     "data": {
      "text/html": [
       "<div>\n",
       "<style scoped>\n",
       "    .dataframe tbody tr th:only-of-type {\n",
       "        vertical-align: middle;\n",
       "    }\n",
       "\n",
       "    .dataframe tbody tr th {\n",
       "        vertical-align: top;\n",
       "    }\n",
       "\n",
       "    .dataframe thead th {\n",
       "        text-align: right;\n",
       "    }\n",
       "</style>\n",
       "<table border=\"1\" class=\"dataframe\">\n",
       "  <thead>\n",
       "    <tr style=\"text-align: right;\">\n",
       "      <th></th>\n",
       "      <th>0</th>\n",
       "      <th>1</th>\n",
       "      <th>0</th>\n",
       "      <th>1</th>\n",
       "      <th>2</th>\n",
       "      <th>3</th>\n",
       "    </tr>\n",
       "  </thead>\n",
       "  <tbody>\n",
       "    <tr>\n",
       "      <th>0</th>\n",
       "      <td>26</td>\n",
       "      <td>Jan</td>\n",
       "      <td>2014</td>\n",
       "      <td>10</td>\n",
       "      <td>47</td>\n",
       "      <td>58</td>\n",
       "    </tr>\n",
       "    <tr>\n",
       "      <th>1</th>\n",
       "      <td>2</td>\n",
       "      <td>Feb</td>\n",
       "      <td>2005</td>\n",
       "      <td>17</td>\n",
       "      <td>23</td>\n",
       "      <td>6</td>\n",
       "    </tr>\n",
       "    <tr>\n",
       "      <th>2</th>\n",
       "      <td>3</td>\n",
       "      <td>Feb</td>\n",
       "      <td>2006</td>\n",
       "      <td>10</td>\n",
       "      <td>18</td>\n",
       "      <td>37</td>\n",
       "    </tr>\n",
       "  </tbody>\n",
       "</table>\n",
       "</div>"
      ],
      "text/plain": [
       "    0    1     0   1   2   3\n",
       "0  26  Jan  2014  10  47  58\n",
       "1   2  Feb  2005  17  23   6\n",
       "2   3  Feb  2006  10  18  37"
      ]
     },
     "execution_count": 5,
     "metadata": {},
     "output_type": "execute_result"
    }
   ],
   "source": [
    "time_strs = (pd.Series(lines).str.split('[', 1, expand=True)[1]\n",
    "             .str.split(' ', 1, expand=True)[0])\n",
    "day_month_rest = time_strs.str.split('/', expand=True)\n",
    "pd.concat([day_month_rest.loc[:, 0:1], \n",
    "           day_month_rest[2].str.split(':', expand=True)], axis=1)"
   ]
  },
  {
   "cell_type": "markdown",
   "metadata": {},
   "source": [
    "String manipulation based on regular expressions."
   ]
  },
  {
   "cell_type": "code",
   "execution_count": 6,
   "metadata": {},
   "outputs": [
    {
     "data": {
      "text/plain": [
       "('2014', 'Jan', '26', '10', '47', '58')"
      ]
     },
     "execution_count": 6,
     "metadata": {},
     "output_type": "execute_result"
    }
   ],
   "source": [
    "import re\n",
    "pattern = r'(\\d+)/(\\w+)/(\\d+):(\\d+):(\\d+):(\\d+)'\n",
    "day, month, year, hour, minute, second = re.search(pattern, first).groups()\n",
    "year, month, day, hour, minute, second"
   ]
  },
  {
   "cell_type": "code",
   "execution_count": 7,
   "metadata": {},
   "outputs": [
    {
     "data": {
      "text/html": [
       "<div>\n",
       "<style scoped>\n",
       "    .dataframe tbody tr th:only-of-type {\n",
       "        vertical-align: middle;\n",
       "    }\n",
       "\n",
       "    .dataframe tbody tr th {\n",
       "        vertical-align: top;\n",
       "    }\n",
       "\n",
       "    .dataframe thead th {\n",
       "        text-align: right;\n",
       "    }\n",
       "</style>\n",
       "<table border=\"1\" class=\"dataframe\">\n",
       "  <thead>\n",
       "    <tr style=\"text-align: right;\">\n",
       "      <th></th>\n",
       "      <th>0</th>\n",
       "      <th>1</th>\n",
       "      <th>2</th>\n",
       "      <th>3</th>\n",
       "      <th>4</th>\n",
       "      <th>5</th>\n",
       "    </tr>\n",
       "  </thead>\n",
       "  <tbody>\n",
       "    <tr>\n",
       "      <th>0</th>\n",
       "      <td>26</td>\n",
       "      <td>Jan</td>\n",
       "      <td>2014</td>\n",
       "      <td>10</td>\n",
       "      <td>47</td>\n",
       "      <td>58</td>\n",
       "    </tr>\n",
       "    <tr>\n",
       "      <th>1</th>\n",
       "      <td>2</td>\n",
       "      <td>Feb</td>\n",
       "      <td>2005</td>\n",
       "      <td>17</td>\n",
       "      <td>23</td>\n",
       "      <td>6</td>\n",
       "    </tr>\n",
       "    <tr>\n",
       "      <th>2</th>\n",
       "      <td>3</td>\n",
       "      <td>Feb</td>\n",
       "      <td>2006</td>\n",
       "      <td>10</td>\n",
       "      <td>18</td>\n",
       "      <td>37</td>\n",
       "    </tr>\n",
       "  </tbody>\n",
       "</table>\n",
       "</div>"
      ],
      "text/plain": [
       "    0    1     2   3   4   5\n",
       "0  26  Jan  2014  10  47  58\n",
       "1   2  Feb  2005  17  23   6\n",
       "2   3  Feb  2006  10  18  37"
      ]
     },
     "execution_count": 7,
     "metadata": {},
     "output_type": "execute_result"
    }
   ],
   "source": [
    "pd.Series(lines).str.extract(pattern)"
   ]
  },
  {
   "cell_type": "markdown",
   "metadata": {},
   "source": [
    "Date parsing using the `datetime` module."
   ]
  },
  {
   "cell_type": "code",
   "execution_count": 8,
   "metadata": {},
   "outputs": [
    {
     "data": {
      "text/plain": [
       "datetime.datetime(2014, 1, 26, 10, 47, 58)"
      ]
     },
     "execution_count": 8,
     "metadata": {},
     "output_type": "execute_result"
    }
   ],
   "source": [
    "from datetime import datetime\n",
    "datetime.strptime(time_str, '%d/%b/%Y:%H:%M:%S')"
   ]
  },
  {
   "cell_type": "code",
   "execution_count": 9,
   "metadata": {},
   "outputs": [
    {
     "data": {
      "text/plain": [
       "0   2014-01-26 10:47:58\n",
       "1   2005-02-02 17:23:06\n",
       "2   2006-02-03 10:18:37\n",
       "Name: 0, dtype: datetime64[ns]"
      ]
     },
     "execution_count": 9,
     "metadata": {},
     "output_type": "execute_result"
    }
   ],
   "source": [
    "pd.Series(lines).str.extract(r'\\[(.*) -0800\\]')[0].apply(\n",
    "    lambda s: datetime.strptime(s, '%d/%b/%Y:%H:%M:%S'))"
   ]
  },
  {
   "cell_type": "markdown",
   "metadata": {},
   "source": [
    "## Text Processing Case Study\n",
    "\n",
    "In this example, we will apply string processing to the process of data cleaning and exploratory data analysis.\n",
    "\n",
    "(Not covered during lecture, but used as an example and reference.)"
   ]
  },
  {
   "cell_type": "markdown",
   "metadata": {},
   "source": [
    "### Getting the Data\n",
    "\n",
    "The city of Berkeley maintains an [Open Data Portal](https://data.cityofberkeley.info/) for citizens to access data about the city.  We will be examining [Call Data](https://data.cityofberkeley.info/Public-Safety/Berkeley-PD-Calls-for-Service/k2nh-s5h5).\n",
    "\n",
    "<img src=\"calls_desc.png\" width=800px />\n",
    "\n"
   ]
  },
  {
   "cell_type": "code",
   "execution_count": 10,
   "metadata": {
    "ExecuteTime": {
     "end_time": "2018-02-02T15:15:19.115040Z",
     "start_time": "2018-02-02T15:15:19.070620Z"
    }
   },
   "outputs": [
    {
     "name": "stdout",
     "output_type": "stream",
     "text": [
      "Downloading... Done!\n"
     ]
    },
    {
     "data": {
      "text/html": [
       "<div>\n",
       "<style scoped>\n",
       "    .dataframe tbody tr th:only-of-type {\n",
       "        vertical-align: middle;\n",
       "    }\n",
       "\n",
       "    .dataframe tbody tr th {\n",
       "        vertical-align: top;\n",
       "    }\n",
       "\n",
       "    .dataframe thead th {\n",
       "        text-align: right;\n",
       "    }\n",
       "</style>\n",
       "<table border=\"1\" class=\"dataframe\">\n",
       "  <thead>\n",
       "    <tr style=\"text-align: right;\">\n",
       "      <th></th>\n",
       "      <th>CASENO</th>\n",
       "      <th>OFFENSE</th>\n",
       "      <th>EVENTDT</th>\n",
       "      <th>EVENTTM</th>\n",
       "      <th>CVLEGEND</th>\n",
       "      <th>CVDOW</th>\n",
       "      <th>InDbDate</th>\n",
       "      <th>Block_Location</th>\n",
       "      <th>BLKADDR</th>\n",
       "      <th>City</th>\n",
       "      <th>State</th>\n",
       "      <th>Council Districts_uniq_prepend</th>\n",
       "      <th>Council Districts_from_hg3u_n7v4</th>\n",
       "      <th>Council Districts_from_c8zs_8y7x</th>\n",
       "      <th>Zip Codes</th>\n",
       "      <th>Police Beats</th>\n",
       "      <th>Census Tracts</th>\n",
       "      <th>Council Districts</th>\n",
       "    </tr>\n",
       "  </thead>\n",
       "  <tbody>\n",
       "    <tr>\n",
       "      <th>0</th>\n",
       "      <td>18092358</td>\n",
       "      <td>THEFT MISD. (UNDER $950)</td>\n",
       "      <td>12/19/2018 12:00:00 AM</td>\n",
       "      <td>09:30</td>\n",
       "      <td>LARCENY</td>\n",
       "      <td>3</td>\n",
       "      <td>06/18/2019 10:28:09 AM</td>\n",
       "      <td>2000 FOURTH ST\\nBerkeley, CA\\n(37.867613, -122...</td>\n",
       "      <td>2000 FOURTH ST</td>\n",
       "      <td>Berkeley</td>\n",
       "      <td>CA</td>\n",
       "      <td>7.0</td>\n",
       "      <td>1716.0</td>\n",
       "      <td>7.0</td>\n",
       "      <td>1502.0</td>\n",
       "      <td>6.0</td>\n",
       "      <td>11.0</td>\n",
       "      <td>5.0</td>\n",
       "    </tr>\n",
       "    <tr>\n",
       "      <th>1</th>\n",
       "      <td>19000172</td>\n",
       "      <td>BURGLARY RESIDENTIAL</td>\n",
       "      <td>12/19/2018 12:00:00 AM</td>\n",
       "      <td>00:01</td>\n",
       "      <td>BURGLARY - RESIDENTIAL</td>\n",
       "      <td>3</td>\n",
       "      <td>06/18/2019 10:28:09 AM</td>\n",
       "      <td>1200 EVELYN AVE\\nBerkeley, CA\\n(37.883153, -12...</td>\n",
       "      <td>1200 EVELYN AVE</td>\n",
       "      <td>Berkeley</td>\n",
       "      <td>CA</td>\n",
       "      <td>NaN</td>\n",
       "      <td>NaN</td>\n",
       "      <td>NaN</td>\n",
       "      <td>1498.0</td>\n",
       "      <td>NaN</td>\n",
       "      <td>NaN</td>\n",
       "      <td>NaN</td>\n",
       "    </tr>\n",
       "    <tr>\n",
       "      <th>2</th>\n",
       "      <td>18069978</td>\n",
       "      <td>BURGLARY AUTO</td>\n",
       "      <td>12/19/2018 12:00:00 AM</td>\n",
       "      <td>08:07</td>\n",
       "      <td>BURGLARY - VEHICLE</td>\n",
       "      <td>3</td>\n",
       "      <td>06/18/2019 10:28:09 AM</td>\n",
       "      <td>2900 SAN PABLO AVE\\nBerkeley, CA\\n(37.853576, ...</td>\n",
       "      <td>2900 SAN PABLO AVE</td>\n",
       "      <td>Berkeley</td>\n",
       "      <td>CA</td>\n",
       "      <td>8.0</td>\n",
       "      <td>933.0</td>\n",
       "      <td>8.0</td>\n",
       "      <td>1494.0</td>\n",
       "      <td>5.0</td>\n",
       "      <td>16.0</td>\n",
       "      <td>8.0</td>\n",
       "    </tr>\n",
       "    <tr>\n",
       "      <th>3</th>\n",
       "      <td>18070016</td>\n",
       "      <td>THEFT MISD. (UNDER $950)</td>\n",
       "      <td>12/19/2018 12:00:00 AM</td>\n",
       "      <td>00:00</td>\n",
       "      <td>LARCENY</td>\n",
       "      <td>3</td>\n",
       "      <td>06/18/2019 10:28:09 AM</td>\n",
       "      <td>GRAYSON STREET &amp; 7TH ST\\nBerkeley, CA\\n(37.855...</td>\n",
       "      <td>GRAYSON STREET &amp; 7TH ST</td>\n",
       "      <td>Berkeley</td>\n",
       "      <td>CA</td>\n",
       "      <td>8.0</td>\n",
       "      <td>10.0</td>\n",
       "      <td>8.0</td>\n",
       "      <td>1502.0</td>\n",
       "      <td>5.0</td>\n",
       "      <td>11.0</td>\n",
       "      <td>8.0</td>\n",
       "    </tr>\n",
       "    <tr>\n",
       "      <th>4</th>\n",
       "      <td>18070047</td>\n",
       "      <td>THEFT MISD. (UNDER $950)</td>\n",
       "      <td>12/19/2018 12:00:00 AM</td>\n",
       "      <td>16:08</td>\n",
       "      <td>LARCENY</td>\n",
       "      <td>3</td>\n",
       "      <td>06/18/2019 10:28:09 AM</td>\n",
       "      <td>2200 SHATTUCK AVE\\nBerkeley, CA\\n(37.869363, -...</td>\n",
       "      <td>2200 SHATTUCK AVE</td>\n",
       "      <td>Berkeley</td>\n",
       "      <td>CA</td>\n",
       "      <td>1.0</td>\n",
       "      <td>613.0</td>\n",
       "      <td>1.0</td>\n",
       "      <td>1496.0</td>\n",
       "      <td>11.0</td>\n",
       "      <td>32.0</td>\n",
       "      <td>1.0</td>\n",
       "    </tr>\n",
       "  </tbody>\n",
       "</table>\n",
       "</div>"
      ],
      "text/plain": [
       "     CASENO                   OFFENSE                 EVENTDT EVENTTM  \\\n",
       "0  18092358  THEFT MISD. (UNDER $950)  12/19/2018 12:00:00 AM   09:30   \n",
       "1  19000172      BURGLARY RESIDENTIAL  12/19/2018 12:00:00 AM   00:01   \n",
       "2  18069978             BURGLARY AUTO  12/19/2018 12:00:00 AM   08:07   \n",
       "3  18070016  THEFT MISD. (UNDER $950)  12/19/2018 12:00:00 AM   00:00   \n",
       "4  18070047  THEFT MISD. (UNDER $950)  12/19/2018 12:00:00 AM   16:08   \n",
       "\n",
       "                 CVLEGEND  CVDOW                InDbDate  \\\n",
       "0                 LARCENY      3  06/18/2019 10:28:09 AM   \n",
       "1  BURGLARY - RESIDENTIAL      3  06/18/2019 10:28:09 AM   \n",
       "2      BURGLARY - VEHICLE      3  06/18/2019 10:28:09 AM   \n",
       "3                 LARCENY      3  06/18/2019 10:28:09 AM   \n",
       "4                 LARCENY      3  06/18/2019 10:28:09 AM   \n",
       "\n",
       "                                      Block_Location                  BLKADDR  \\\n",
       "0  2000 FOURTH ST\\nBerkeley, CA\\n(37.867613, -122...           2000 FOURTH ST   \n",
       "1  1200 EVELYN AVE\\nBerkeley, CA\\n(37.883153, -12...          1200 EVELYN AVE   \n",
       "2  2900 SAN PABLO AVE\\nBerkeley, CA\\n(37.853576, ...       2900 SAN PABLO AVE   \n",
       "3  GRAYSON STREET & 7TH ST\\nBerkeley, CA\\n(37.855...  GRAYSON STREET & 7TH ST   \n",
       "4  2200 SHATTUCK AVE\\nBerkeley, CA\\n(37.869363, -...        2200 SHATTUCK AVE   \n",
       "\n",
       "       City State  Council Districts_uniq_prepend  \\\n",
       "0  Berkeley    CA                             7.0   \n",
       "1  Berkeley    CA                             NaN   \n",
       "2  Berkeley    CA                             8.0   \n",
       "3  Berkeley    CA                             8.0   \n",
       "4  Berkeley    CA                             1.0   \n",
       "\n",
       "   Council Districts_from_hg3u_n7v4  Council Districts_from_c8zs_8y7x  \\\n",
       "0                            1716.0                               7.0   \n",
       "1                               NaN                               NaN   \n",
       "2                             933.0                               8.0   \n",
       "3                              10.0                               8.0   \n",
       "4                             613.0                               1.0   \n",
       "\n",
       "   Zip Codes  Police Beats  Census Tracts  Council Districts  \n",
       "0     1502.0           6.0           11.0                5.0  \n",
       "1     1498.0           NaN            NaN                NaN  \n",
       "2     1494.0           5.0           16.0                8.0  \n",
       "3     1502.0           5.0           11.0                8.0  \n",
       "4     1496.0          11.0           32.0                1.0  "
      ]
     },
     "execution_count": 10,
     "metadata": {},
     "output_type": "execute_result"
    }
   ],
   "source": [
    "import ds100_utils\n",
    "\n",
    "calls_url = 'https://data.cityofberkeley.info/api/views/k2nh-s5h5/rows.csv?accessType=DOWNLOAD'\n",
    "calls_file = ds100_utils.fetch_and_cache(calls_url, 'calls.csv')\n",
    "calls = pd.read_csv(calls_file, warn_bad_lines=True)\n",
    "calls.head()"
   ]
  },
  {
   "cell_type": "markdown",
   "metadata": {},
   "source": [
    "How many records did we get?"
   ]
  },
  {
   "cell_type": "code",
   "execution_count": 11,
   "metadata": {
    "ExecuteTime": {
     "end_time": "2018-02-02T15:15:19.122345Z",
     "start_time": "2018-02-02T15:15:19.118071Z"
    }
   },
   "outputs": [
    {
     "data": {
      "text/plain": [
       "4433"
      ]
     },
     "execution_count": 11,
     "metadata": {},
     "output_type": "execute_result"
    }
   ],
   "source": [
    "len(calls)"
   ]
  },
  {
   "cell_type": "markdown",
   "metadata": {},
   "source": [
    "What does an example `Block_Location` value look like?"
   ]
  },
  {
   "cell_type": "code",
   "execution_count": 12,
   "metadata": {},
   "outputs": [
    {
     "name": "stdout",
     "output_type": "stream",
     "text": [
      "2000 FOURTH ST\n",
      "Berkeley, CA\n",
      "(37.867613, -122.299898)\n"
     ]
    }
   ],
   "source": [
    "print(calls['Block_Location'].iloc[0])"
   ]
  },
  {
   "cell_type": "markdown",
   "metadata": {
    "solution2": "hidden",
    "solution2_first": true
   },
   "source": [
    "### Preliminary observations on the data?"
   ]
  },
  {
   "cell_type": "markdown",
   "metadata": {
    "solution2": "hidden"
   },
   "source": [
    "1. `EVENTDT` -- Contains the incorrect time\n",
    "1. `EVENTTM` -- Contains the time in 24 hour format (What timezone?)\n",
    "1. `CVDOW` -- Encodes the day of the week (see data documentation).\n",
    "1. `InDbDate` -- Appears to be correctly formatted and appears pretty consistent in time.\n",
    "1. **`Block_Location` -- a multi-line string that contains coordinates.**\n",
    "1. `BLKADDR` -- Appears to be the address in `Block Location`.\n",
    "1. `City` and `State` seem redundant given this is supposed to be the city of Berkeley dataset."
   ]
  },
  {
   "cell_type": "markdown",
   "metadata": {},
   "source": [
    "### Extracting locations\n",
    "\n",
    "The block location contains geographic coordinates. Let's extract them."
   ]
  },
  {
   "cell_type": "code",
   "execution_count": 13,
   "metadata": {
    "ExecuteTime": {
     "end_time": "2018-02-02T15:15:19.230720Z",
     "start_time": "2018-02-02T15:15:19.225971Z"
    }
   },
   "outputs": [
    {
     "data": {
      "text/plain": [
       "'2000 FOURTH ST\\nBerkeley, CA\\n(37.867613, -122.299898)'"
      ]
     },
     "execution_count": 13,
     "metadata": {},
     "output_type": "execute_result"
    }
   ],
   "source": [
    "calls['Block_Location'][0]"
   ]
  },
  {
   "cell_type": "code",
   "execution_count": 14,
   "metadata": {
    "ExecuteTime": {
     "end_time": "2018-02-02T15:15:19.268222Z",
     "start_time": "2018-02-02T15:15:19.233193Z"
    }
   },
   "outputs": [
    {
     "data": {
      "text/html": [
       "<div>\n",
       "<style scoped>\n",
       "    .dataframe tbody tr th:only-of-type {\n",
       "        vertical-align: middle;\n",
       "    }\n",
       "\n",
       "    .dataframe tbody tr th {\n",
       "        vertical-align: top;\n",
       "    }\n",
       "\n",
       "    .dataframe thead th {\n",
       "        text-align: right;\n",
       "    }\n",
       "</style>\n",
       "<table border=\"1\" class=\"dataframe\">\n",
       "  <thead>\n",
       "    <tr style=\"text-align: right;\">\n",
       "      <th></th>\n",
       "      <th>Lat</th>\n",
       "      <th>Lon</th>\n",
       "    </tr>\n",
       "  </thead>\n",
       "  <tbody>\n",
       "    <tr>\n",
       "      <th>0</th>\n",
       "      <td>37.867613</td>\n",
       "      <td>-122.299898</td>\n",
       "    </tr>\n",
       "    <tr>\n",
       "      <th>1</th>\n",
       "      <td>37.883153</td>\n",
       "      <td>-122.292104</td>\n",
       "    </tr>\n",
       "    <tr>\n",
       "      <th>2</th>\n",
       "      <td>37.853576</td>\n",
       "      <td>-122.287202</td>\n",
       "    </tr>\n",
       "    <tr>\n",
       "      <th>3</th>\n",
       "      <td>37.855294</td>\n",
       "      <td>-122.292475</td>\n",
       "    </tr>\n",
       "    <tr>\n",
       "      <th>4</th>\n",
       "      <td>37.869363</td>\n",
       "      <td>-122.268028</td>\n",
       "    </tr>\n",
       "    <tr>\n",
       "      <th>5</th>\n",
       "      <td>37.870054</td>\n",
       "      <td>-122.284263</td>\n",
       "    </tr>\n",
       "    <tr>\n",
       "      <th>6</th>\n",
       "      <td>37.869105</td>\n",
       "      <td>-122.270064</td>\n",
       "    </tr>\n",
       "    <tr>\n",
       "      <th>7</th>\n",
       "      <td>37.888199</td>\n",
       "      <td>-122.250826</td>\n",
       "    </tr>\n",
       "    <tr>\n",
       "      <th>8</th>\n",
       "      <td>37.871828</td>\n",
       "      <td>-122.270516</td>\n",
       "    </tr>\n",
       "    <tr>\n",
       "      <th>9</th>\n",
       "      <td>37.880667</td>\n",
       "      <td>-122.29489</td>\n",
       "    </tr>\n",
       "  </tbody>\n",
       "</table>\n",
       "</div>"
      ],
      "text/plain": [
       "         Lat          Lon\n",
       "0  37.867613  -122.299898\n",
       "1  37.883153  -122.292104\n",
       "2  37.853576  -122.287202\n",
       "3  37.855294  -122.292475\n",
       "4  37.869363  -122.268028\n",
       "5  37.870054  -122.284263\n",
       "6  37.869105  -122.270064\n",
       "7  37.888199  -122.250826\n",
       "8  37.871828  -122.270516\n",
       "9  37.880667   -122.29489"
      ]
     },
     "execution_count": 14,
     "metadata": {},
     "output_type": "execute_result"
    }
   ],
   "source": [
    "calls_lat_lon = (\n",
    "    calls['Block_Location']\n",
    "    .str.extract(\"\\((\\d+\\.\\d+)\\, (-\\d+\\.\\d+)\\)\")\n",
    ")\n",
    "calls_lat_lon.columns = ['Lat', 'Lon']\n",
    "calls_lat_lon.head(10)"
   ]
  },
  {
   "cell_type": "markdown",
   "metadata": {},
   "source": [
    "How many records have missing values?"
   ]
  },
  {
   "cell_type": "code",
   "execution_count": 15,
   "metadata": {
    "ExecuteTime": {
     "end_time": "2018-02-02T15:15:19.280471Z",
     "start_time": "2018-02-02T15:15:19.271307Z"
    }
   },
   "outputs": [
    {
     "data": {
      "text/plain": [
       "Lat    158\n",
       "Lon    158\n",
       "dtype: int64"
      ]
     },
     "execution_count": 15,
     "metadata": {},
     "output_type": "execute_result"
    }
   ],
   "source": [
    "calls_lat_lon.isnull().sum()"
   ]
  },
  {
   "cell_type": "markdown",
   "metadata": {},
   "source": [
    "Examine the missing values."
   ]
  },
  {
   "cell_type": "code",
   "execution_count": 16,
   "metadata": {},
   "outputs": [
    {
     "data": {
      "text/plain": [
       "20                       900 NORTHGATE AVE\\nBerkeley, CA\n",
       "103                    1600 SIXTY-THIRD ST\\nBerkeley, CA\n",
       "104               STANFORD AV & VALLEJO ST\\nBerkeley, CA\n",
       "151                        900 PARKSIDE DR\\nBerkeley, CA\n",
       "158    MARTIN LUTHER KING JR WAY &GRANT ST\\nBerkeley, CA\n",
       "187        CAMELIA STREET &RAILROAD TRACKS\\nBerkeley, CA\n",
       "196                 DOCK N &UNIVERSITY AVE\\nBerkeley, CA\n",
       "203                         1625 TRUMAN ST\\nBerkeley, CA\n",
       "207                         2100 VALLEY ST\\nBerkeley, CA\n",
       "336                        800 SHATTUCK SQ\\nBerkeley, CA\n",
       "Name: Block_Location, dtype: object"
      ]
     },
     "execution_count": 16,
     "metadata": {},
     "output_type": "execute_result"
    }
   ],
   "source": [
    "calls[calls_lat_lon.isnull().any(axis=1)]['Block_Location'].head(10)"
   ]
  },
  {
   "cell_type": "markdown",
   "metadata": {},
   "source": [
    "Join in the extracted values."
   ]
  },
  {
   "cell_type": "code",
   "execution_count": 17,
   "metadata": {
    "ExecuteTime": {
     "end_time": "2018-02-02T15:15:19.328544Z",
     "start_time": "2018-02-02T15:15:19.287625Z"
    },
    "scrolled": true
   },
   "outputs": [
    {
     "data": {
      "text/html": [
       "<div>\n",
       "<style scoped>\n",
       "    .dataframe tbody tr th:only-of-type {\n",
       "        vertical-align: middle;\n",
       "    }\n",
       "\n",
       "    .dataframe tbody tr th {\n",
       "        vertical-align: top;\n",
       "    }\n",
       "\n",
       "    .dataframe thead th {\n",
       "        text-align: right;\n",
       "    }\n",
       "</style>\n",
       "<table border=\"1\" class=\"dataframe\">\n",
       "  <thead>\n",
       "    <tr style=\"text-align: right;\">\n",
       "      <th></th>\n",
       "      <th>CASENO</th>\n",
       "      <th>OFFENSE</th>\n",
       "      <th>EVENTDT</th>\n",
       "      <th>EVENTTM</th>\n",
       "      <th>CVLEGEND</th>\n",
       "      <th>CVDOW</th>\n",
       "      <th>InDbDate</th>\n",
       "      <th>Block_Location</th>\n",
       "      <th>BLKADDR</th>\n",
       "      <th>City</th>\n",
       "      <th>State</th>\n",
       "      <th>Council Districts_uniq_prepend</th>\n",
       "      <th>Council Districts_from_hg3u_n7v4</th>\n",
       "      <th>Council Districts_from_c8zs_8y7x</th>\n",
       "      <th>Zip Codes</th>\n",
       "      <th>Police Beats</th>\n",
       "      <th>Census Tracts</th>\n",
       "      <th>Council Districts</th>\n",
       "      <th>Lat</th>\n",
       "      <th>Lon</th>\n",
       "    </tr>\n",
       "  </thead>\n",
       "  <tbody>\n",
       "    <tr>\n",
       "      <th>0</th>\n",
       "      <td>18092358</td>\n",
       "      <td>THEFT MISD. (UNDER $950)</td>\n",
       "      <td>12/19/2018 12:00:00 AM</td>\n",
       "      <td>09:30</td>\n",
       "      <td>LARCENY</td>\n",
       "      <td>3</td>\n",
       "      <td>06/18/2019 10:28:09 AM</td>\n",
       "      <td>2000 FOURTH ST\\nBerkeley, CA\\n(37.867613, -122...</td>\n",
       "      <td>2000 FOURTH ST</td>\n",
       "      <td>Berkeley</td>\n",
       "      <td>CA</td>\n",
       "      <td>7.0</td>\n",
       "      <td>1716.0</td>\n",
       "      <td>7.0</td>\n",
       "      <td>1502.0</td>\n",
       "      <td>6.0</td>\n",
       "      <td>11.0</td>\n",
       "      <td>5.0</td>\n",
       "      <td>37.867613</td>\n",
       "      <td>-122.299898</td>\n",
       "    </tr>\n",
       "    <tr>\n",
       "      <th>1</th>\n",
       "      <td>19000172</td>\n",
       "      <td>BURGLARY RESIDENTIAL</td>\n",
       "      <td>12/19/2018 12:00:00 AM</td>\n",
       "      <td>00:01</td>\n",
       "      <td>BURGLARY - RESIDENTIAL</td>\n",
       "      <td>3</td>\n",
       "      <td>06/18/2019 10:28:09 AM</td>\n",
       "      <td>1200 EVELYN AVE\\nBerkeley, CA\\n(37.883153, -12...</td>\n",
       "      <td>1200 EVELYN AVE</td>\n",
       "      <td>Berkeley</td>\n",
       "      <td>CA</td>\n",
       "      <td>NaN</td>\n",
       "      <td>NaN</td>\n",
       "      <td>NaN</td>\n",
       "      <td>1498.0</td>\n",
       "      <td>NaN</td>\n",
       "      <td>NaN</td>\n",
       "      <td>NaN</td>\n",
       "      <td>37.883153</td>\n",
       "      <td>-122.292104</td>\n",
       "    </tr>\n",
       "    <tr>\n",
       "      <th>2</th>\n",
       "      <td>18069978</td>\n",
       "      <td>BURGLARY AUTO</td>\n",
       "      <td>12/19/2018 12:00:00 AM</td>\n",
       "      <td>08:07</td>\n",
       "      <td>BURGLARY - VEHICLE</td>\n",
       "      <td>3</td>\n",
       "      <td>06/18/2019 10:28:09 AM</td>\n",
       "      <td>2900 SAN PABLO AVE\\nBerkeley, CA\\n(37.853576, ...</td>\n",
       "      <td>2900 SAN PABLO AVE</td>\n",
       "      <td>Berkeley</td>\n",
       "      <td>CA</td>\n",
       "      <td>8.0</td>\n",
       "      <td>933.0</td>\n",
       "      <td>8.0</td>\n",
       "      <td>1494.0</td>\n",
       "      <td>5.0</td>\n",
       "      <td>16.0</td>\n",
       "      <td>8.0</td>\n",
       "      <td>37.853576</td>\n",
       "      <td>-122.287202</td>\n",
       "    </tr>\n",
       "    <tr>\n",
       "      <th>3</th>\n",
       "      <td>18070016</td>\n",
       "      <td>THEFT MISD. (UNDER $950)</td>\n",
       "      <td>12/19/2018 12:00:00 AM</td>\n",
       "      <td>00:00</td>\n",
       "      <td>LARCENY</td>\n",
       "      <td>3</td>\n",
       "      <td>06/18/2019 10:28:09 AM</td>\n",
       "      <td>GRAYSON STREET &amp; 7TH ST\\nBerkeley, CA\\n(37.855...</td>\n",
       "      <td>GRAYSON STREET &amp; 7TH ST</td>\n",
       "      <td>Berkeley</td>\n",
       "      <td>CA</td>\n",
       "      <td>8.0</td>\n",
       "      <td>10.0</td>\n",
       "      <td>8.0</td>\n",
       "      <td>1502.0</td>\n",
       "      <td>5.0</td>\n",
       "      <td>11.0</td>\n",
       "      <td>8.0</td>\n",
       "      <td>37.855294</td>\n",
       "      <td>-122.292475</td>\n",
       "    </tr>\n",
       "    <tr>\n",
       "      <th>4</th>\n",
       "      <td>18070047</td>\n",
       "      <td>THEFT MISD. (UNDER $950)</td>\n",
       "      <td>12/19/2018 12:00:00 AM</td>\n",
       "      <td>16:08</td>\n",
       "      <td>LARCENY</td>\n",
       "      <td>3</td>\n",
       "      <td>06/18/2019 10:28:09 AM</td>\n",
       "      <td>2200 SHATTUCK AVE\\nBerkeley, CA\\n(37.869363, -...</td>\n",
       "      <td>2200 SHATTUCK AVE</td>\n",
       "      <td>Berkeley</td>\n",
       "      <td>CA</td>\n",
       "      <td>1.0</td>\n",
       "      <td>613.0</td>\n",
       "      <td>1.0</td>\n",
       "      <td>1496.0</td>\n",
       "      <td>11.0</td>\n",
       "      <td>32.0</td>\n",
       "      <td>1.0</td>\n",
       "      <td>37.869363</td>\n",
       "      <td>-122.268028</td>\n",
       "    </tr>\n",
       "  </tbody>\n",
       "</table>\n",
       "</div>"
      ],
      "text/plain": [
       "     CASENO                   OFFENSE                 EVENTDT EVENTTM  \\\n",
       "0  18092358  THEFT MISD. (UNDER $950)  12/19/2018 12:00:00 AM   09:30   \n",
       "1  19000172      BURGLARY RESIDENTIAL  12/19/2018 12:00:00 AM   00:01   \n",
       "2  18069978             BURGLARY AUTO  12/19/2018 12:00:00 AM   08:07   \n",
       "3  18070016  THEFT MISD. (UNDER $950)  12/19/2018 12:00:00 AM   00:00   \n",
       "4  18070047  THEFT MISD. (UNDER $950)  12/19/2018 12:00:00 AM   16:08   \n",
       "\n",
       "                 CVLEGEND  CVDOW                InDbDate  \\\n",
       "0                 LARCENY      3  06/18/2019 10:28:09 AM   \n",
       "1  BURGLARY - RESIDENTIAL      3  06/18/2019 10:28:09 AM   \n",
       "2      BURGLARY - VEHICLE      3  06/18/2019 10:28:09 AM   \n",
       "3                 LARCENY      3  06/18/2019 10:28:09 AM   \n",
       "4                 LARCENY      3  06/18/2019 10:28:09 AM   \n",
       "\n",
       "                                      Block_Location                  BLKADDR  \\\n",
       "0  2000 FOURTH ST\\nBerkeley, CA\\n(37.867613, -122...           2000 FOURTH ST   \n",
       "1  1200 EVELYN AVE\\nBerkeley, CA\\n(37.883153, -12...          1200 EVELYN AVE   \n",
       "2  2900 SAN PABLO AVE\\nBerkeley, CA\\n(37.853576, ...       2900 SAN PABLO AVE   \n",
       "3  GRAYSON STREET & 7TH ST\\nBerkeley, CA\\n(37.855...  GRAYSON STREET & 7TH ST   \n",
       "4  2200 SHATTUCK AVE\\nBerkeley, CA\\n(37.869363, -...        2200 SHATTUCK AVE   \n",
       "\n",
       "       City State  Council Districts_uniq_prepend  \\\n",
       "0  Berkeley    CA                             7.0   \n",
       "1  Berkeley    CA                             NaN   \n",
       "2  Berkeley    CA                             8.0   \n",
       "3  Berkeley    CA                             8.0   \n",
       "4  Berkeley    CA                             1.0   \n",
       "\n",
       "   Council Districts_from_hg3u_n7v4  Council Districts_from_c8zs_8y7x  \\\n",
       "0                            1716.0                               7.0   \n",
       "1                               NaN                               NaN   \n",
       "2                             933.0                               8.0   \n",
       "3                              10.0                               8.0   \n",
       "4                             613.0                               1.0   \n",
       "\n",
       "   Zip Codes  Police Beats  Census Tracts  Council Districts        Lat  \\\n",
       "0     1502.0           6.0           11.0                5.0  37.867613   \n",
       "1     1498.0           NaN            NaN                NaN  37.883153   \n",
       "2     1494.0           5.0           16.0                8.0  37.853576   \n",
       "3     1502.0           5.0           11.0                8.0  37.855294   \n",
       "4     1496.0          11.0           32.0                1.0  37.869363   \n",
       "\n",
       "           Lon  \n",
       "0  -122.299898  \n",
       "1  -122.292104  \n",
       "2  -122.287202  \n",
       "3  -122.292475  \n",
       "4  -122.268028  "
      ]
     },
     "execution_count": 17,
     "metadata": {},
     "output_type": "execute_result"
    }
   ],
   "source": [
    "if 'Lat' not in calls.columns:\n",
    "    calls = calls.merge(calls_lat_lon, left_index=True, right_index=True)\n",
    "calls.head()"
   ]
  },
  {
   "cell_type": "markdown",
   "metadata": {},
   "source": [
    "## Examining Location information\n",
    "\n",
    "Let's examine the geographic data (latitude and longitude).  Recall that we had some missing values.  Let's look at the behavior of these missing values according to crime type."
   ]
  },
  {
   "cell_type": "code",
   "execution_count": 18,
   "metadata": {
    "ExecuteTime": {
     "end_time": "2018-02-02T15:15:34.130428Z",
     "start_time": "2018-02-02T15:15:32.851717Z"
    }
   },
   "outputs": [
    {
     "data": {
      "image/png": "[encoded data removed]",
      "text/plain": [
       "<Figure size 432x288 with 1 Axes>"
      ]
     },
     "metadata": {
      "needs_background": "light"
     },
     "output_type": "display_data"
    }
   ],
   "source": [
    "missing_lat_lon = calls[calls[['Lat', 'Lon']].isnull().any(axis=1)]\n",
    "missing_lat_lon['CVLEGEND'].value_counts().plot(kind='barh');"
   ]
  },
  {
   "cell_type": "code",
   "execution_count": 19,
   "metadata": {},
   "outputs": [
    {
     "data": {
      "image/png": "[encoded data removed]",
      "text/plain": [
       "<Figure size 432x288 with 1 Axes>"
      ]
     },
     "metadata": {
      "needs_background": "light"
     },
     "output_type": "display_data"
    }
   ],
   "source": [
    "calls['CVLEGEND'].value_counts().plot(kind='barh');"
   ]
  },
  {
   "cell_type": "markdown",
   "metadata": {},
   "source": [
    "### Observations?"
   ]
  },
  {
   "cell_type": "markdown",
   "metadata": {},
   "source": [
    "There is a clear bias towards drug violations that is not present in the original data.  Therefore we should be careful when dropping missing values!"
   ]
  },
  {
   "cell_type": "markdown",
   "metadata": {},
   "source": [
    "We might further normalize the analysis by the frequency to find which type of crime has the highest proportion of missing values."
   ]
  },
  {
   "cell_type": "code",
   "execution_count": 20,
   "metadata": {
    "ExecuteTime": {
     "end_time": "2018-02-02T15:15:35.358758Z",
     "start_time": "2018-02-02T15:15:34.132788Z"
    }
   },
   "outputs": [
    {
     "data": {
      "image/png": "[encoded data removed]",
      "text/plain": [
       "<Figure size 432x288 with 1 Axes>"
      ]
     },
     "metadata": {
      "needs_background": "light"
     },
     "output_type": "display_data"
    }
   ],
   "source": [
    "(missing_lat_lon['CVLEGEND'].value_counts() \n",
    " / calls['CVLEGEND'].value_counts()\n",
    ").sort_values(ascending=False).plot(kind=\"barh\");"
   ]
  },
  {
   "cell_type": "markdown",
   "metadata": {},
   "source": [
    "Now, let's make a crime map."
   ]
  },
  {
   "cell_type": "code",
   "execution_count": 21,
   "metadata": {},
   "outputs": [
    {
     "data": {
      "text/html": [
       "<div style=\"width:100%;\"><div style=\"position:relative;width:100%;height:0;padding-bottom:60%;\"><iframe src=\"data:text/html;charset=utf-8;base64,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\" style=\"position:absolute;width:100%;height:100%;left:0;top:0;border:none !important;\" allowfullscreen webkitallowfullscreen mozallowfullscreen></iframe></div></div>"
      ],
      "text/plain": [
       "<folium.folium.Map at 0x1056984a8>"
      ]
     },
     "execution_count": 21,
     "metadata": {},
     "output_type": "execute_result"
    }
   ],
   "source": [
    "import folium\n",
    "import folium.plugins\n",
    "\n",
    "SF_COORDINATES = (37.87, -122.28)\n",
    "sf_map = folium.Map(location=SF_COORDINATES, zoom_start=13)\n",
    "locs = calls[['Lat', 'Lon']].astype('float').dropna().values\n",
    "heatmap = folium.plugins.HeatMap(locs.tolist(), radius=10)\n",
    "sf_map.add_child(heatmap)"
   ]
  },
  {
   "cell_type": "markdown",
   "metadata": {},
   "source": [
    "### Questions\n",
    "\n",
    "1. Is campus really the safest place to be?\n",
    "1. Why are all the calls located on the street and at often at intersections?\n"
   ]
  },
  {
   "cell_type": "code",
   "execution_count": 22,
   "metadata": {
    "ExecuteTime": {
     "end_time": "2018-02-02T15:15:54.826669Z",
     "start_time": "2018-02-02T15:15:37.180513Z"
    },
    "scrolled": false
   },
   "outputs": [
    {
     "ename": "AttributeError",
     "evalue": "module 'folium' has no attribute 'MarkerCluster'",
     "output_type": "error",
     "traceback": [
      "\u001b[0;31m---------------------------------------------------------------------------\u001b[0m",
      "\u001b[0;31mAttributeError\u001b[0m                            Traceback (most recent call last)",
      "\u001b[0;32m<ipython-input-22-92bf55f7bc4b>\u001b[0m in \u001b[0;36m<module>\u001b[0;34m\u001b[0m\n\u001b[1;32m      1\u001b[0m \u001b[0mlocations\u001b[0m \u001b[0;34m=\u001b[0m \u001b[0mcalls\u001b[0m\u001b[0;34m[\u001b[0m\u001b[0mcalls\u001b[0m\u001b[0;34m[\u001b[0m\u001b[0;34m'CVLEGEND'\u001b[0m\u001b[0;34m]\u001b[0m \u001b[0;34m==\u001b[0m \u001b[0;34m'ASSAULT'\u001b[0m\u001b[0;34m]\u001b[0m\u001b[0;34m[\u001b[0m\u001b[0;34m[\u001b[0m\u001b[0;34m'Lat'\u001b[0m\u001b[0;34m,\u001b[0m \u001b[0;34m'Lon'\u001b[0m\u001b[0;34m]\u001b[0m\u001b[0;34m]\u001b[0m\u001b[0;34m\u001b[0m\u001b[0;34m\u001b[0m\u001b[0m\n\u001b[1;32m      2\u001b[0m \u001b[0;34m\u001b[0m\u001b[0m\n\u001b[0;32m----> 3\u001b[0;31m \u001b[0mcluster\u001b[0m \u001b[0;34m=\u001b[0m \u001b[0mfolium\u001b[0m\u001b[0;34m.\u001b[0m\u001b[0mMarkerCluster\u001b[0m\u001b[0;34m(\u001b[0m\u001b[0;34m[\u001b[0m\u001b[0;34m]\u001b[0m\u001b[0;34m)\u001b[0m\u001b[0;34m\u001b[0m\u001b[0;34m\u001b[0m\u001b[0m\n\u001b[0m\u001b[1;32m      4\u001b[0m \u001b[0;32mfor\u001b[0m \u001b[0m_\u001b[0m\u001b[0;34m,\u001b[0m \u001b[0mr\u001b[0m \u001b[0;32min\u001b[0m \u001b[0mlocations\u001b[0m\u001b[0;34m.\u001b[0m\u001b[0mdropna\u001b[0m\u001b[0;34m(\u001b[0m\u001b[0;34m)\u001b[0m\u001b[0;34m.\u001b[0m\u001b[0miterrows\u001b[0m\u001b[0;34m(\u001b[0m\u001b[0;34m)\u001b[0m\u001b[0;34m:\u001b[0m\u001b[0;34m\u001b[0m\u001b[0;34m\u001b[0m\u001b[0m\n\u001b[1;32m      5\u001b[0m     cluster.add_child(\n",
      "\u001b[0;31mAttributeError\u001b[0m: module 'folium' has no attribute 'MarkerCluster'"
     ]
    }
   ],
   "source": [
    "locations = calls[calls['CVLEGEND'] == 'ASSAULT'][['Lat', 'Lon']]\n",
    "\n",
    "cluster = folium.MarkerCluster([])\n",
    "for _, r in locations.dropna().iterrows():\n",
    "    cluster.add_child(\n",
    "        folium.Marker([float(r[\"Lat\"]), float(r[\"Lon\"])]))\n",
    "    \n",
    "sf_map = folium.Map(location=SF_COORDINATES, zoom_start=13)\n",
    "sf_map.add_child(cluster)\n",
    "sf_map"
   ]
  },
  {
   "cell_type": "code",
   "execution_count": null,
   "metadata": {},
   "outputs": [],
   "source": []
  }
 ],
 "metadata": {
  "kernelspec": {
   "display_name": "Python 3",
   "language": "python",
   "name": "python3"
  },
  "language_info": {
   "codemirror_mode": {
    "name": "ipython",
    "version": 3
   },
   "file_extension": ".py",
   "mimetype": "text/x-python",
   "name": "python",
   "nbconvert_exporter": "python",
   "pygments_lexer": "ipython3",
   "version": "3.7.3"
  }
 },
 "nbformat": 4,
 "nbformat_minor": 2
}
