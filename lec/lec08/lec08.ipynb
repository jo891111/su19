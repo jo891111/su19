{
 "cells": [
  {
   "cell_type": "code",
   "execution_count": 65,
   "metadata": {},
   "outputs": [],
   "source": [
    "import os\n",
    "import pandas as pd\n",
    "import numpy as np\n",
    "import matplotlib.pyplot as plt\n",
    "import seaborn as sns\n",
    "%matplotlib inline\n",
    "\n",
    "from pathlib import Path\n",
    "from sqlalchemy import create_engine\n",
    "from ds100_utils import fetch_and_cache\n",
    "\n",
    "sns.set()\n",
    "sns.set_context('talk')\n",
    "np.set_printoptions(threshold=20, precision=2, suppress=True)\n",
    "pd.set_option('display.max_rows', 7)\n",
    "pd.set_option('display.max_columns', 8)\n",
    "pd.set_option('precision', 2)"
   ]
  },
  {
   "cell_type": "markdown",
   "metadata": {},
   "source": [
    "## SQL Joins"
   ]
  },
  {
   "cell_type": "code",
   "execution_count": 66,
   "metadata": {},
   "outputs": [],
   "source": [
    "import sqlite3\n",
    "conn = sqlite3.connect('test.db')"
   ]
  },
  {
   "cell_type": "code",
   "execution_count": 112,
   "metadata": {},
   "outputs": [],
   "source": [
    "conn.executescript(\"\"\"\n",
    "DROP TABLE IF EXISTS users;\n",
    "DROP TABLE IF EXISTS orders;\n",
    "\n",
    "CREATE TABLE users(\n",
    "    id INTEGER PRIMARY KEY, \n",
    "    name TEXT\n",
    ");\n",
    "\n",
    "INSERT INTO users VALUES \n",
    "    (1, 'sam'),\n",
    "    (2, 'manana'),\n",
    "    (3, 'leo'),\n",
    "    (4, 'steph');\n",
    "\n",
    "CREATE TABLE orders(\n",
    "    item TEXT PRIMARY KEY,\n",
    "    price NUMERIC,\n",
    "    name TEXT\n",
    ");\n",
    "\n",
    "INSERT INTO orders VALUES \n",
    "    ('water', 2, 'caleb'),\n",
    "    ('tea', 10.5, 'sam'),\n",
    "    ('latte', 4, 'manana'),\n",
    "    ('boba', 4.5, 'leo');\n",
    "\"\"\");"
   ]
  },
  {
   "cell_type": "code",
   "execution_count": 113,
   "metadata": {},
   "outputs": [
    {
     "name": "stdout",
     "output_type": "stream",
     "text": [
      "sql> SELECT * FROM users;\n",
      "(1, 'sam')\n",
      "(2, 'manana')\n",
      "(3, 'leo')\n",
      "(4, 'steph')\n",
      "sql> SELECT * FROM orders;\n",
      "('water', 2, 'caleb')\n",
      "('tea', 10.5, 'sam')\n",
      "('latte', 4, 'manana')\n",
      "('boba', 4.5, 'leo')\n"
     ]
    }
   ],
   "source": [
    "def print_sql(s):\n",
    "    first, *rest = s.strip().split('\\n')\n",
    "    print(f'sql> {first}')\n",
    "    for line in rest:\n",
    "        print(f'...> {line}')\n",
    "    for result in conn.execute(s):\n",
    "        print(result)\n",
    "\n",
    "print_sql('SELECT * FROM users;')\n",
    "print_sql('SELECT * FROM orders;')"
   ]
  },
  {
   "cell_type": "code",
   "execution_count": 114,
   "metadata": {},
   "outputs": [
    {
     "name": "stdout",
     "output_type": "stream",
     "text": [
      "sql> SELECT *\n",
      "...> FROM users\n",
      "...> WHERE id >= 3;\n",
      "(3, 'leo')\n",
      "(4, 'steph')\n"
     ]
    }
   ],
   "source": [
    "query = '''\n",
    "SELECT *\n",
    "FROM users\n",
    "WHERE id >= 3;\n",
    "'''\n",
    "\n",
    "print_sql(query)"
   ]
  },
  {
   "cell_type": "code",
   "execution_count": 115,
   "metadata": {},
   "outputs": [
    {
     "name": "stdout",
     "output_type": "stream",
     "text": [
      "sql> SELECT *\n",
      "...> FROM users, orders\n",
      "(1, 'sam', 'water', 2, 'caleb')\n",
      "(1, 'sam', 'tea', 10.5, 'sam')\n",
      "(1, 'sam', 'latte', 4, 'manana')\n",
      "(1, 'sam', 'boba', 4.5, 'leo')\n",
      "(2, 'manana', 'water', 2, 'caleb')\n",
      "(2, 'manana', 'tea', 10.5, 'sam')\n",
      "(2, 'manana', 'latte', 4, 'manana')\n",
      "(2, 'manana', 'boba', 4.5, 'leo')\n",
      "(3, 'leo', 'water', 2, 'caleb')\n",
      "(3, 'leo', 'tea', 10.5, 'sam')\n",
      "(3, 'leo', 'latte', 4, 'manana')\n",
      "(3, 'leo', 'boba', 4.5, 'leo')\n",
      "(4, 'steph', 'water', 2, 'caleb')\n",
      "(4, 'steph', 'tea', 10.5, 'sam')\n",
      "(4, 'steph', 'latte', 4, 'manana')\n",
      "(4, 'steph', 'boba', 4.5, 'leo')\n"
     ]
    }
   ],
   "source": [
    "query = '''\n",
    "SELECT *\n",
    "FROM users, orders\n",
    "'''\n",
    "print_sql(query)"
   ]
  },
  {
   "cell_type": "code",
   "execution_count": 116,
   "metadata": {},
   "outputs": [
    {
     "name": "stdout",
     "output_type": "stream",
     "text": [
      "sql> SELECT *\n",
      "...> FROM users JOIN orders\n",
      "...>   ON users.name = orders.name\n",
      "(1, 'sam', 'tea', 10.5, 'sam')\n",
      "(2, 'manana', 'latte', 4, 'manana')\n",
      "(3, 'leo', 'boba', 4.5, 'leo')\n"
     ]
    }
   ],
   "source": [
    "query = '''\n",
    "SELECT *\n",
    "FROM users JOIN orders\n",
    "  ON users.name = orders.name\n",
    "'''\n",
    "print_sql(query)"
   ]
  },
  {
   "cell_type": "code",
   "execution_count": 117,
   "metadata": {},
   "outputs": [
    {
     "name": "stdout",
     "output_type": "stream",
     "text": [
      "sql> SELECT *\n",
      "...> FROM users, orders\n",
      "...>   WHERE users.name = orders.name\n",
      "(1, 'sam', 'tea', 10.5, 'sam')\n",
      "(2, 'manana', 'latte', 4, 'manana')\n",
      "(3, 'leo', 'boba', 4.5, 'leo')\n"
     ]
    }
   ],
   "source": [
    "query = '''\n",
    "SELECT *\n",
    "FROM users, orders\n",
    "  WHERE users.name = orders.name\n",
    "'''\n",
    "print_sql(query)"
   ]
  },
  {
   "cell_type": "code",
   "execution_count": 118,
   "metadata": {},
   "outputs": [
    {
     "name": "stdout",
     "output_type": "stream",
     "text": [
      "sql> SELECT *\n",
      "...> FROM users LEFT JOIN orders\n",
      "...>   ON users.name = orders.name\n",
      "(1, 'sam', 'tea', 10.5, 'sam')\n",
      "(2, 'manana', 'latte', 4, 'manana')\n",
      "(3, 'leo', 'boba', 4.5, 'leo')\n",
      "(4, 'steph', None, None, None)\n"
     ]
    }
   ],
   "source": [
    "query = '''\n",
    "SELECT *\n",
    "FROM users LEFT JOIN orders\n",
    "  ON users.name = orders.name\n",
    "'''\n",
    "print_sql(query)"
   ]
  },
  {
   "cell_type": "markdown",
   "metadata": {},
   "source": [
    "Doing an outer join is possible but not very concise:"
   ]
  },
  {
   "cell_type": "code",
   "execution_count": 120,
   "metadata": {},
   "outputs": [
    {
     "name": "stdout",
     "output_type": "stream",
     "text": [
      "sql> SELECT users.id, users.name, orders.item, orders.price\n",
      "...> FROM users LEFT JOIN orders\n",
      "...>   ON users.name = orders.name\n",
      "(1, 'sam', 'tea', 10.5)\n",
      "(2, 'manana', 'latte', 4)\n",
      "(3, 'leo', 'boba', 4.5)\n",
      "(4, 'steph', None, None)\n"
     ]
    }
   ],
   "source": [
    "query = '''\n",
    "SELECT users.id, users.name, orders.item, orders.price\n",
    "FROM users LEFT JOIN orders\n",
    "  ON users.name = orders.name\n",
    "'''\n",
    "print_sql(query)"
   ]
  },
  {
   "cell_type": "code",
   "execution_count": 121,
   "metadata": {},
   "outputs": [
    {
     "name": "stdout",
     "output_type": "stream",
     "text": [
      "sql> SELECT users.id, users.name, orders.item, orders.price\n",
      "...> FROM users LEFT JOIN orders\n",
      "...>   ON users.name = orders.name\n",
      "...> UNION\n",
      "...> SELECT users.id, users.name, orders.item, orders.price\n",
      "...> FROM orders LEFT JOIN users\n",
      "...>   ON users.name = orders.name\n",
      "(None, None, 'water', 2)\n",
      "(1, 'sam', 'tea', 10.5)\n",
      "(2, 'manana', 'latte', 4)\n",
      "(3, 'leo', 'boba', 4.5)\n",
      "(4, 'steph', None, None)\n"
     ]
    }
   ],
   "source": [
    "query = '''\n",
    "SELECT users.id, users.name, orders.item, orders.price\n",
    "FROM users LEFT JOIN orders\n",
    "  ON users.name = orders.name\n",
    "UNION\n",
    "SELECT users.id, users.name, orders.item, orders.price\n",
    "FROM orders LEFT JOIN users\n",
    "  ON users.name = orders.name\n",
    "'''\n",
    "print_sql(query)"
   ]
  },
  {
   "cell_type": "markdown",
   "metadata": {},
   "source": [
    "## IMDB Data"
   ]
  },
  {
   "cell_type": "code",
   "execution_count": 9,
   "metadata": {},
   "outputs": [
    {
     "name": "stdout",
     "output_type": "stream",
     "text": [
      "Using cached version that was downloaded (UTC): Fri Jul  5 12:10:57 2019\n",
      "Using cached version that was downloaded (UTC): Fri Jul  5 12:11:07 2019\n",
      "total 2712400\n",
      "-rw-r--r--  1 sam  staff   539M Jul  5 12:11 names.tsv\n",
      "-rw-r--r--  1 sam  staff   176M Jul  5 12:11 names.tsv.gz\n",
      "-rw-r--r--  1 sam  staff   484M Jul  5 12:10 titles.tsv\n",
      "-rw-r--r--  1 sam  staff   102M Jul  5 12:10 titles.tsv.gz\n"
     ]
    }
   ],
   "source": [
    "# From https://www.imdb.com/interfaces/\n",
    "fetch_and_cache('https://datasets.imdbws.com/title.basics.tsv.gz', 'titles.tsv.gz')\n",
    "fetch_and_cache('https://datasets.imdbws.com/name.basics.tsv.gz', 'names.tsv.gz')\n",
    "!gunzip -kf data/titles.tsv.gz\n",
    "!gunzip -kf data/names.tsv.gz\n",
    "!ls -lh data"
   ]
  },
  {
   "cell_type": "code",
   "execution_count": 10,
   "metadata": {},
   "outputs": [
    {
     "name": "stdout",
     "output_type": "stream",
     "text": [
      "tconst\ttitleType\tprimaryTitle\toriginalTitle\tisAdult\tstartYear\tendYear\truntimeMinutes\tgenres\r\n",
      "tt0000001\tshort\tCarmencita\tCarmencita\t0\t1894\t\\N\t1\tDocumentary,Short\r\n",
      "tt0000002\tshort\tLe clown et ses chiens\tLe clown et ses chiens\t0\t1892\t\\N\t5\tAnimation,Short\r\n",
      "tt0000003\tshort\tPauvre Pierrot\tPauvre Pierrot\t0\t1892\t\\N\t4\tAnimation,Comedy,Romance\r\n",
      "tt0000004\tshort\tUn bon bock\tUn bon bock\t0\t1892\t\\N\t\\N\tAnimation,Short\r\n"
     ]
    }
   ],
   "source": [
    "!head -n5 data/titles.tsv"
   ]
  },
  {
   "cell_type": "code",
   "execution_count": 15,
   "metadata": {},
   "outputs": [
    {
     "name": "stdout",
     "output_type": "stream",
     "text": [
      "tconst\ttitleType\tprimaryTitle\toriginalTitle\tisAdult\tstartYear\tendYear\truntimeMinutes\tgenres\r\n",
      "tt0000001\tshort\tCarmencita\tCarmencita\t0\t1894\t\\N\t1\tDocumentary,Short\r\n",
      "tt0000002\tshort\tLe clown et ses chiens\tLe clown et ses chiens\t0\t1892\t\\N\t5\tAnimation,Short\r\n",
      "tt0000003\tshort\tPauvre Pierrot\tPauvre Pierrot\t0\t1892\t\\N\t4\tAnimation,Comedy,Romance\r\n",
      "tt0000004\tshort\tUn bon bock\tUn bon bock\t0\t1892\t\\N\t\\N\tAnimation,Short\r\n",
      "tt0000005\tshort\tBlacksmith Scene\tBlacksmith Scene\t0\t1893\t\\N\t1\tComedy,Short\r\n",
      "tt0000006\tshort\tChinese Opium Den\tChinese Opium Den\t0\t1894\t\\N\t1\tShort\r\n",
      "tt0000007\tshort\tCorbett and Courtney Before the Kinetograph\tCorbett and Courtney Before the Kinetograph\t0\t1894\t\\N\t1\tShort,Sport\r\n",
      "tt0000008\tshort\tEdison Kinetoscopic Record of a Sneeze\tEdison Kinetoscopic Record of a Sneeze\t0\t1894\t\\N\t1\tDocumentary,Short\r\n",
      "tt0000009\tmovie\tMiss Jerry\tMiss Jerry\t0\t1894\t\\N\t45\tRomance\r\n"
     ]
    }
   ],
   "source": [
    "!head -n 10 data/titles.tsv"
   ]
  },
  {
   "cell_type": "code",
   "execution_count": 11,
   "metadata": {},
   "outputs": [
    {
     "name": "stdout",
     "output_type": "stream",
     "text": [
      "nconst\tprimaryName\tbirthYear\tdeathYear\tprimaryProfession\tknownForTitles\r\n",
      "nm0000001\tFred Astaire\t1899\t1987\tsoundtrack,actor,miscellaneous\ttt0043044,tt0050419,tt0053137,tt0072308\r\n",
      "nm0000002\tLauren Bacall\t1924\t2014\tactress,soundtrack\ttt0038355,tt0117057,tt0037382,tt0071877\r\n",
      "nm0000003\tBrigitte Bardot\t1934\t\\N\tactress,soundtrack,producer\ttt0049189,tt0054452,tt0057345,tt0059956\r\n",
      "nm0000004\tJohn Belushi\t1949\t1982\tactor,writer,soundtrack\ttt0080455,tt0078723,tt0077975,tt0072562\r\n"
     ]
    }
   ],
   "source": [
    "!head -n5 data/names.tsv"
   ]
  },
  {
   "cell_type": "code",
   "execution_count": 12,
   "metadata": {},
   "outputs": [
    {
     "name": "stdout",
     "output_type": "stream",
     "text": [
      " 9429109 65046269 565579045 data/names.tsv\n",
      " 5982407 81293691 507519002 data/titles.tsv\n",
      " 15411516 146339960 1073098047 total\n"
     ]
    }
   ],
   "source": [
    "!wc data/*.tsv"
   ]
  },
  {
   "cell_type": "code",
   "execution_count": 13,
   "metadata": {},
   "outputs": [],
   "source": [
    "# How to crash your kernel:\n",
    "# pd.read_csv('data/names.tsv', sep='\\t')"
   ]
  },
  {
   "cell_type": "code",
   "execution_count": 14,
   "metadata": {},
   "outputs": [],
   "source": [
    "# Instead, use sqlite3 (must be run from the terminal)\n",
    "\"\"\"\n",
    "$ sqlite3 imdb.db\n",
    "sqlite> .mode tabs\n",
    "sqlite> .import data/titles.tsv titles\n",
    "sqlite> .import data/names.tsv names\n",
    "\"\"\";"
   ]
  },
  {
   "cell_type": "code",
   "execution_count": 123,
   "metadata": {},
   "outputs": [
    {
     "name": "stdout",
     "output_type": "stream",
     "text": [
      "sql> SELECT * FROM titles LIMIT 10;\n",
      "('tt0000001', 'short', 'Carmencita', 'Carmencita', '0', '1894', '\\\\N', '1', 'Documentary,Short')\n",
      "('tt0000002', 'short', 'Le clown et ses chiens', 'Le clown et ses chiens', '0', '1892', '\\\\N', '5', 'Animation,Short')\n",
      "('tt0000003', 'short', 'Pauvre Pierrot', 'Pauvre Pierrot', '0', '1892', '\\\\N', '4', 'Animation,Comedy,Romance')\n",
      "('tt0000004', 'short', 'Un bon bock', 'Un bon bock', '0', '1892', '\\\\N', '\\\\N', 'Animation,Short')\n",
      "('tt0000005', 'short', 'Blacksmith Scene', 'Blacksmith Scene', '0', '1893', '\\\\N', '1', 'Comedy,Short')\n",
      "('tt0000006', 'short', 'Chinese Opium Den', 'Chinese Opium Den', '0', '1894', '\\\\N', '1', 'Short')\n",
      "('tt0000007', 'short', 'Corbett and Courtney Before the Kinetograph', 'Corbett and Courtney Before the Kinetograph', '0', '1894', '\\\\N', '1', 'Short,Sport')\n",
      "('tt0000008', 'short', 'Edison Kinetoscopic Record of a Sneeze', 'Edison Kinetoscopic Record of a Sneeze', '0', '1894', '\\\\N', '1', 'Documentary,Short')\n",
      "('tt0000009', 'movie', 'Miss Jerry', 'Miss Jerry', '0', '1894', '\\\\N', '45', 'Romance')\n",
      "('tt0000010', 'short', 'Exiting the Factory', \"La sortie de l'usine Lumière à Lyon\", '0', '1895', '\\\\N', '1', 'Documentary,Short')\n"
     ]
    }
   ],
   "source": [
    "conn = sqlite3.connect('imdb.db')\n",
    "print_sql('SELECT * FROM titles LIMIT 10;')"
   ]
  },
  {
   "cell_type": "code",
   "execution_count": 124,
   "metadata": {},
   "outputs": [
    {
     "name": "stdout",
     "output_type": "stream",
     "text": [
      "CREATE TABLE titles(\n",
      "  \"tconst\" TEXT,\n",
      "  \"titleType\" TEXT,\n",
      "  \"primaryTitle\" TEXT,\n",
      "  \"originalTitle\" TEXT,\n",
      "  \"isAdult\" TEXT,\n",
      "  \"startYear\" TEXT,\n",
      "  \"endYear\" TEXT,\n",
      "  \"runtimeMinutes\" TEXT,\n",
      "  \"genres\" TEXT\n",
      ")\n",
      "CREATE TABLE names(\n",
      "  \"nconst\" TEXT,\n",
      "  \"primaryName\" TEXT,\n",
      "  \"birthYear\" TEXT,\n",
      "  \"deathYear\" TEXT,\n",
      "  \"primaryProfession\" TEXT,\n",
      "  \"knownForTitles\" TEXT\n",
      ")\n",
      "CREATE TABLE \"action\"(\n",
      "  id TEXT,\n",
      "  title TEXT,\n",
      "  time INT,\n",
      "  year INT\n",
      ")\n",
      "CREATE TABLE action_ppl(\n",
      "  name TEXT,\n",
      "  profession,\n",
      "  born INT,\n",
      "  title TEXT,\n",
      "  year INT\n",
      ")\n"
     ]
    }
   ],
   "source": [
    "for exp in conn.execute('SELECT sql FROM sqlite_master;'):\n",
    "    print(exp[0])"
   ]
  },
  {
   "cell_type": "code",
   "execution_count": 125,
   "metadata": {},
   "outputs": [
    {
     "data": {
      "text/plain": [
       "'John is here'"
      ]
     },
     "execution_count": 125,
     "metadata": {},
     "output_type": "execute_result"
    }
   ],
   "source": [
    "# Python string substitution (new in Python 3.6)\n",
    "who, where = 'John', 'here'\n",
    "f\"{who} is {where}\""
   ]
  },
  {
   "cell_type": "code",
   "execution_count": 126,
   "metadata": {},
   "outputs": [
    {
     "name": "stdout",
     "output_type": "stream",
     "text": [
      "sql> SELECT * FROM action LIMIT 10\n",
      "('tt0004223', 'The Life of General Villa', 105, 1914)\n",
      "('tt0004635', 'The Squaw Man', 74, 1914)\n",
      "('tt0005073', 'The Chalice of Courage', 65, 1915)\n",
      "('tt0006333', '20,000 Leagues Under the Sea', 105, 1916)\n",
      "('tt0006997', 'The Warrior', 95, 1916)\n",
      "('tt0008915', 'Bound in Morocco', 64, 1918)\n",
      "('tt0009560', 'The Romance of Tarzan', 70, 1918)\n",
      "('tt0009682', 'Tarzan of the Apes', 73, 1918)\n",
      "('tt0009894', 'The Grey Automobile', 111, 1919)\n",
      "('tt0010879', 'When the Clouds Roll by', 85, 1919)\n"
     ]
    }
   ],
   "source": [
    "key = 'tconst'\n",
    "title = 'primaryTitle'\n",
    "time = 'runtimeMinutes'\n",
    "year = 'startYear'\n",
    "adult = 'isAdult'\n",
    "kind = 'titleType'\n",
    "\n",
    "select_action = f'''\n",
    "SELECT {key} AS id,\n",
    "  {title} AS title, \n",
    "  CAST({time} AS int) AS time, \n",
    "  CAST({year} AS int) AS year\n",
    "FROM titles\n",
    "WHERE genres LIKE '%Action%' AND\n",
    "  year > 1900 AND \n",
    "  {adult} = '0' AND\n",
    "  {kind} = 'movie' AND\n",
    "  time > 60 AND time < 180\n",
    "'''\n",
    "\n",
    "create_action_table = f'''\n",
    "DROP TABLE IF EXISTS action;\n",
    "CREATE TABLE action AS {select_action};\n",
    "'''\n",
    "\n",
    "conn.executescript(create_action_table)\n",
    "print_sql('SELECT * FROM action LIMIT 10')"
   ]
  },
  {
   "cell_type": "markdown",
   "metadata": {},
   "source": [
    "We can check to see whether this table is small enough to read into pandas:"
   ]
  },
  {
   "cell_type": "code",
   "execution_count": 127,
   "metadata": {},
   "outputs": [
    {
     "name": "stdout",
     "output_type": "stream",
     "text": [
      "sql> SELECT COUNT(*) from action\n",
      "(21597,)\n"
     ]
    }
   ],
   "source": [
    "print_sql('SELECT COUNT(*) from action')"
   ]
  },
  {
   "cell_type": "code",
   "execution_count": 128,
   "metadata": {},
   "outputs": [
    {
     "data": {
      "text/html": [
       "<div>\n",
       "<style scoped>\n",
       "    .dataframe tbody tr th:only-of-type {\n",
       "        vertical-align: middle;\n",
       "    }\n",
       "\n",
       "    .dataframe tbody tr th {\n",
       "        vertical-align: top;\n",
       "    }\n",
       "\n",
       "    .dataframe thead th {\n",
       "        text-align: right;\n",
       "    }\n",
       "</style>\n",
       "<table border=\"1\" class=\"dataframe\">\n",
       "  <thead>\n",
       "    <tr style=\"text-align: right;\">\n",
       "      <th></th>\n",
       "      <th>id</th>\n",
       "      <th>title</th>\n",
       "      <th>time</th>\n",
       "      <th>year</th>\n",
       "    </tr>\n",
       "  </thead>\n",
       "  <tbody>\n",
       "    <tr>\n",
       "      <th>0</th>\n",
       "      <td>tt0004223</td>\n",
       "      <td>The Life of General Villa</td>\n",
       "      <td>105</td>\n",
       "      <td>1914</td>\n",
       "    </tr>\n",
       "    <tr>\n",
       "      <th>1</th>\n",
       "      <td>tt0004635</td>\n",
       "      <td>The Squaw Man</td>\n",
       "      <td>74</td>\n",
       "      <td>1914</td>\n",
       "    </tr>\n",
       "    <tr>\n",
       "      <th>2</th>\n",
       "      <td>tt0005073</td>\n",
       "      <td>The Chalice of Courage</td>\n",
       "      <td>65</td>\n",
       "      <td>1915</td>\n",
       "    </tr>\n",
       "    <tr>\n",
       "      <th>...</th>\n",
       "      <td>...</td>\n",
       "      <td>...</td>\n",
       "      <td>...</td>\n",
       "      <td>...</td>\n",
       "    </tr>\n",
       "    <tr>\n",
       "      <th>21594</th>\n",
       "      <td>tt9890030</td>\n",
       "      <td>Prematho Mee Karthik</td>\n",
       "      <td>115</td>\n",
       "      <td>2017</td>\n",
       "    </tr>\n",
       "    <tr>\n",
       "      <th>21595</th>\n",
       "      <td>tt9897764</td>\n",
       "      <td>River Pirates</td>\n",
       "      <td>90</td>\n",
       "      <td>2018</td>\n",
       "    </tr>\n",
       "    <tr>\n",
       "      <th>21596</th>\n",
       "      <td>tt9904066</td>\n",
       "      <td>Fox Hunting</td>\n",
       "      <td>66</td>\n",
       "      <td>2019</td>\n",
       "    </tr>\n",
       "  </tbody>\n",
       "</table>\n",
       "<p>21597 rows × 4 columns</p>\n",
       "</div>"
      ],
      "text/plain": [
       "              id                      title  time  year\n",
       "0      tt0004223  The Life of General Villa   105  1914\n",
       "1      tt0004635              The Squaw Man    74  1914\n",
       "2      tt0005073     The Chalice of Courage    65  1915\n",
       "...          ...                        ...   ...   ...\n",
       "21594  tt9890030       Prematho Mee Karthik   115  2017\n",
       "21595  tt9897764              River Pirates    90  2018\n",
       "21596  tt9904066                Fox Hunting    66  2019\n",
       "\n",
       "[21597 rows x 4 columns]"
      ]
     },
     "execution_count": 128,
     "metadata": {},
     "output_type": "execute_result"
    }
   ],
   "source": [
    "df = pd.read_sql('SELECT * FROM action', conn)\n",
    "df"
   ]
  },
  {
   "cell_type": "code",
   "execution_count": 129,
   "metadata": {},
   "outputs": [
    {
     "data": {
      "text/plain": [
       "(21597, 4)"
      ]
     },
     "execution_count": 129,
     "metadata": {},
     "output_type": "execute_result"
    }
   ],
   "source": [
    "df.shape"
   ]
  },
  {
   "cell_type": "code",
   "execution_count": 130,
   "metadata": {},
   "outputs": [
    {
     "data": {
      "image/png": "[encoded data removed]",
      "text/plain": [
       "<Figure size 432x288 with 1 Axes>"
      ]
     },
     "metadata": {},
     "output_type": "display_data"
    }
   ],
   "source": [
    "df.hist('year');"
   ]
  },
  {
   "cell_type": "code",
   "execution_count": 37,
   "metadata": {},
   "outputs": [
    {
     "data": {
      "image/png": "[encoded data removed]",
      "text/plain": [
       "<Figure size 432x288 with 1 Axes>"
      ]
     },
     "metadata": {
      "needs_background": "light"
     },
     "output_type": "display_data"
    }
   ],
   "source": [
    "sns.scatterplot(df['year'], df['time']);"
   ]
  },
  {
   "cell_type": "code",
   "execution_count": 38,
   "metadata": {},
   "outputs": [
    {
     "data": {
      "image/png": "[encoded data removed]",
      "text/plain": [
       "<Figure size 432x288 with 1 Axes>"
      ]
     },
     "metadata": {
      "needs_background": "light"
     },
     "output_type": "display_data"
    }
   ],
   "source": [
    "sns.kdeplot(df['year'], df['time']);"
   ]
  },
  {
   "cell_type": "code",
   "execution_count": 39,
   "metadata": {},
   "outputs": [
    {
     "data": {
      "image/png": "[encoded data removed]",
      "text/plain": [
       "<Figure size 432x288 with 1 Axes>"
      ]
     },
     "metadata": {
      "needs_background": "light"
     },
     "output_type": "display_data"
    }
   ],
   "source": [
    "df['time'].groupby(df['year']).mean().plot();"
   ]
  },
  {
   "cell_type": "code",
   "execution_count": 40,
   "metadata": {},
   "outputs": [
    {
     "data": {
      "image/png": "[encoded data removed]",
      "text/plain": [
       "<Figure size 432x288 with 1 Axes>"
      ]
     },
     "metadata": {
      "needs_background": "light"
     },
     "output_type": "display_data"
    }
   ],
   "source": [
    "df['decade'] = (df['year'] // 10) * 10\n",
    "sns.boxplot('decade', 'time', data=df)\n",
    "plt.xticks(rotation=45);"
   ]
  },
  {
   "cell_type": "markdown",
   "metadata": {},
   "source": [
    "## Sampling in SQL"
   ]
  },
  {
   "cell_type": "code",
   "execution_count": 49,
   "metadata": {},
   "outputs": [
    {
     "data": {
      "text/html": [
       "<div>\n",
       "<style scoped>\n",
       "    .dataframe tbody tr th:only-of-type {\n",
       "        vertical-align: middle;\n",
       "    }\n",
       "\n",
       "    .dataframe tbody tr th {\n",
       "        vertical-align: top;\n",
       "    }\n",
       "\n",
       "    .dataframe thead th {\n",
       "        text-align: right;\n",
       "    }\n",
       "</style>\n",
       "<table border=\"1\" class=\"dataframe\">\n",
       "  <thead>\n",
       "    <tr style=\"text-align: right;\">\n",
       "      <th></th>\n",
       "      <th>id</th>\n",
       "      <th>title</th>\n",
       "      <th>time</th>\n",
       "      <th>year</th>\n",
       "    </tr>\n",
       "  </thead>\n",
       "  <tbody>\n",
       "    <tr>\n",
       "      <th>0</th>\n",
       "      <td>tt7431594</td>\n",
       "      <td>Race 3</td>\n",
       "      <td>160</td>\n",
       "      <td>2018</td>\n",
       "    </tr>\n",
       "    <tr>\n",
       "      <th>1</th>\n",
       "      <td>tt0064148</td>\n",
       "      <td>The Chairman</td>\n",
       "      <td>93</td>\n",
       "      <td>1969</td>\n",
       "    </tr>\n",
       "    <tr>\n",
       "      <th>2</th>\n",
       "      <td>tt1647465</td>\n",
       "      <td>The Nice Guy</td>\n",
       "      <td>70</td>\n",
       "      <td>2010</td>\n",
       "    </tr>\n",
       "  </tbody>\n",
       "</table>\n",
       "</div>"
      ],
      "text/plain": [
       "          id         title  time  year\n",
       "0  tt7431594        Race 3   160  2018\n",
       "1  tt0064148  The Chairman    93  1969\n",
       "2  tt1647465  The Nice Guy    70  2010"
      ]
     },
     "execution_count": 49,
     "metadata": {},
     "output_type": "execute_result"
    }
   ],
   "source": [
    "pd.read_sql('SELECT * FROM action ORDER BY RANDOM() LIMIT 3', conn)"
   ]
  },
  {
   "cell_type": "code",
   "execution_count": 131,
   "metadata": {},
   "outputs": [
    {
     "data": {
      "text/html": [
       "<div>\n",
       "<style scoped>\n",
       "    .dataframe tbody tr th:only-of-type {\n",
       "        vertical-align: middle;\n",
       "    }\n",
       "\n",
       "    .dataframe tbody tr th {\n",
       "        vertical-align: top;\n",
       "    }\n",
       "\n",
       "    .dataframe thead th {\n",
       "        text-align: right;\n",
       "    }\n",
       "</style>\n",
       "<table border=\"1\" class=\"dataframe\">\n",
       "  <thead>\n",
       "    <tr style=\"text-align: right;\">\n",
       "      <th></th>\n",
       "      <th>year</th>\n",
       "      <th>COUNT(*)</th>\n",
       "    </tr>\n",
       "  </thead>\n",
       "  <tbody>\n",
       "    <tr>\n",
       "      <th>0</th>\n",
       "      <td>1978</td>\n",
       "      <td>258</td>\n",
       "    </tr>\n",
       "    <tr>\n",
       "      <th>1</th>\n",
       "      <td>2004</td>\n",
       "      <td>358</td>\n",
       "    </tr>\n",
       "    <tr>\n",
       "      <th>2</th>\n",
       "      <td>2011</td>\n",
       "      <td>589</td>\n",
       "    </tr>\n",
       "  </tbody>\n",
       "</table>\n",
       "</div>"
      ],
      "text/plain": [
       "   year  COUNT(*)\n",
       "0  1978       258\n",
       "1  2004       358\n",
       "2  2011       589"
      ]
     },
     "execution_count": 131,
     "metadata": {},
     "output_type": "execute_result"
    }
   ],
   "source": [
    "three_years = '''\n",
    "SELECT year FROM action \n",
    "  GROUP BY year \n",
    "  ORDER BY RANDOM()\n",
    "  LIMIT 3\n",
    "'''\n",
    "\n",
    "cluster_sample = f'''\n",
    "SELECT * FROM action \n",
    "WHERE year IN ({three_years})\n",
    "'''\n",
    "\n",
    "pd.read_sql(f'''\n",
    "SELECT year, COUNT(*) \n",
    "FROM ({cluster_sample}) \n",
    "GROUP BY year\n",
    "''', conn)"
   ]
  },
  {
   "cell_type": "markdown",
   "metadata": {},
   "source": [
    "## Ages of Fame"
   ]
  },
  {
   "cell_type": "code",
   "execution_count": 51,
   "metadata": {},
   "outputs": [
    {
     "data": {
      "text/html": [
       "<div>\n",
       "<style scoped>\n",
       "    .dataframe tbody tr th:only-of-type {\n",
       "        vertical-align: middle;\n",
       "    }\n",
       "\n",
       "    .dataframe tbody tr th {\n",
       "        vertical-align: top;\n",
       "    }\n",
       "\n",
       "    .dataframe thead th {\n",
       "        text-align: right;\n",
       "    }\n",
       "</style>\n",
       "<table border=\"1\" class=\"dataframe\">\n",
       "  <thead>\n",
       "    <tr style=\"text-align: right;\">\n",
       "      <th></th>\n",
       "      <th>nconst</th>\n",
       "      <th>primaryName</th>\n",
       "      <th>birthYear</th>\n",
       "      <th>deathYear</th>\n",
       "      <th>primaryProfession</th>\n",
       "      <th>knownForTitles</th>\n",
       "    </tr>\n",
       "  </thead>\n",
       "  <tbody>\n",
       "    <tr>\n",
       "      <th>0</th>\n",
       "      <td>nm0000001</td>\n",
       "      <td>Fred Astaire</td>\n",
       "      <td>1899</td>\n",
       "      <td>1987</td>\n",
       "      <td>soundtrack,actor,miscellaneous</td>\n",
       "      <td>tt0043044,tt0050419,tt0053137,tt0072308</td>\n",
       "    </tr>\n",
       "    <tr>\n",
       "      <th>1</th>\n",
       "      <td>nm0000002</td>\n",
       "      <td>Lauren Bacall</td>\n",
       "      <td>1924</td>\n",
       "      <td>2014</td>\n",
       "      <td>actress,soundtrack</td>\n",
       "      <td>tt0038355,tt0117057,tt0037382,tt0071877</td>\n",
       "    </tr>\n",
       "    <tr>\n",
       "      <th>2</th>\n",
       "      <td>nm0000003</td>\n",
       "      <td>Brigitte Bardot</td>\n",
       "      <td>1934</td>\n",
       "      <td>\\N</td>\n",
       "      <td>actress,soundtrack,producer</td>\n",
       "      <td>tt0049189,tt0054452,tt0057345,tt0059956</td>\n",
       "    </tr>\n",
       "    <tr>\n",
       "      <th>...</th>\n",
       "      <td>...</td>\n",
       "      <td>...</td>\n",
       "      <td>...</td>\n",
       "      <td>...</td>\n",
       "      <td>...</td>\n",
       "      <td>...</td>\n",
       "    </tr>\n",
       "    <tr>\n",
       "      <th>7</th>\n",
       "      <td>nm0000008</td>\n",
       "      <td>Marlon Brando</td>\n",
       "      <td>1924</td>\n",
       "      <td>2004</td>\n",
       "      <td>actor,soundtrack,director</td>\n",
       "      <td>tt0078788,tt0070849,tt0047296,tt0068646</td>\n",
       "    </tr>\n",
       "    <tr>\n",
       "      <th>8</th>\n",
       "      <td>nm0000009</td>\n",
       "      <td>Richard Burton</td>\n",
       "      <td>1925</td>\n",
       "      <td>1984</td>\n",
       "      <td>actor,producer,soundtrack</td>\n",
       "      <td>tt0087803,tt0057877,tt0061184,tt0059749</td>\n",
       "    </tr>\n",
       "    <tr>\n",
       "      <th>9</th>\n",
       "      <td>nm0000010</td>\n",
       "      <td>James Cagney</td>\n",
       "      <td>1899</td>\n",
       "      <td>1986</td>\n",
       "      <td>actor,soundtrack,director</td>\n",
       "      <td>tt0031867,tt0035575,tt0055256,tt0029870</td>\n",
       "    </tr>\n",
       "  </tbody>\n",
       "</table>\n",
       "<p>10 rows × 6 columns</p>\n",
       "</div>"
      ],
      "text/plain": [
       "       nconst      primaryName birthYear deathYear  \\\n",
       "0   nm0000001     Fred Astaire      1899      1987   \n",
       "1   nm0000002    Lauren Bacall      1924      2014   \n",
       "2   nm0000003  Brigitte Bardot      1934        \\N   \n",
       "..        ...              ...       ...       ...   \n",
       "7   nm0000008    Marlon Brando      1924      2004   \n",
       "8   nm0000009   Richard Burton      1925      1984   \n",
       "9   nm0000010     James Cagney      1899      1986   \n",
       "\n",
       "                 primaryProfession                           knownForTitles  \n",
       "0   soundtrack,actor,miscellaneous  tt0043044,tt0050419,tt0053137,tt0072308  \n",
       "1               actress,soundtrack  tt0038355,tt0117057,tt0037382,tt0071877  \n",
       "2      actress,soundtrack,producer  tt0049189,tt0054452,tt0057345,tt0059956  \n",
       "..                             ...                                      ...  \n",
       "7        actor,soundtrack,director  tt0078788,tt0070849,tt0047296,tt0068646  \n",
       "8        actor,producer,soundtrack  tt0087803,tt0057877,tt0061184,tt0059749  \n",
       "9        actor,soundtrack,director  tt0031867,tt0035575,tt0055256,tt0029870  \n",
       "\n",
       "[10 rows x 6 columns]"
      ]
     },
     "execution_count": 51,
     "metadata": {},
     "output_type": "execute_result"
    }
   ],
   "source": [
    "pd.read_sql('SELECT * FROM names LIMIT 10;', conn)"
   ]
  },
  {
   "cell_type": "code",
   "execution_count": 132,
   "metadata": {},
   "outputs": [
    {
     "data": {
      "text/html": [
       "<div>\n",
       "<style scoped>\n",
       "    .dataframe tbody tr th:only-of-type {\n",
       "        vertical-align: middle;\n",
       "    }\n",
       "\n",
       "    .dataframe tbody tr th {\n",
       "        vertical-align: top;\n",
       "    }\n",
       "\n",
       "    .dataframe thead th {\n",
       "        text-align: right;\n",
       "    }\n",
       "</style>\n",
       "<table border=\"1\" class=\"dataframe\">\n",
       "  <thead>\n",
       "    <tr style=\"text-align: right;\">\n",
       "      <th></th>\n",
       "      <th>name</th>\n",
       "      <th>born</th>\n",
       "      <th>movie_id</th>\n",
       "      <th>profession</th>\n",
       "    </tr>\n",
       "  </thead>\n",
       "  <tbody>\n",
       "    <tr>\n",
       "      <th>0</th>\n",
       "      <td>Fred Astaire</td>\n",
       "      <td>1899</td>\n",
       "      <td>tt0043044</td>\n",
       "      <td>actor</td>\n",
       "    </tr>\n",
       "    <tr>\n",
       "      <th>1</th>\n",
       "      <td>Lauren Bacall</td>\n",
       "      <td>1924</td>\n",
       "      <td>tt0038355</td>\n",
       "      <td>actress</td>\n",
       "    </tr>\n",
       "    <tr>\n",
       "      <th>2</th>\n",
       "      <td>Brigitte Bardot</td>\n",
       "      <td>1934</td>\n",
       "      <td>tt0049189</td>\n",
       "      <td>actress</td>\n",
       "    </tr>\n",
       "    <tr>\n",
       "      <th>...</th>\n",
       "      <td>...</td>\n",
       "      <td>...</td>\n",
       "      <td>...</td>\n",
       "      <td>...</td>\n",
       "    </tr>\n",
       "    <tr>\n",
       "      <th>7</th>\n",
       "      <td>Marlon Brando</td>\n",
       "      <td>1924</td>\n",
       "      <td>tt0078788</td>\n",
       "      <td>actor</td>\n",
       "    </tr>\n",
       "    <tr>\n",
       "      <th>8</th>\n",
       "      <td>Richard Burton</td>\n",
       "      <td>1925</td>\n",
       "      <td>tt0087803</td>\n",
       "      <td>actor</td>\n",
       "    </tr>\n",
       "    <tr>\n",
       "      <th>9</th>\n",
       "      <td>James Cagney</td>\n",
       "      <td>1899</td>\n",
       "      <td>tt0031867</td>\n",
       "      <td>actor</td>\n",
       "    </tr>\n",
       "  </tbody>\n",
       "</table>\n",
       "<p>10 rows × 4 columns</p>\n",
       "</div>"
      ],
      "text/plain": [
       "               name  born   movie_id profession\n",
       "0      Fred Astaire  1899  tt0043044      actor\n",
       "1     Lauren Bacall  1924  tt0038355    actress\n",
       "2   Brigitte Bardot  1934  tt0049189    actress\n",
       "..              ...   ...        ...        ...\n",
       "7     Marlon Brando  1924  tt0078788      actor\n",
       "8    Richard Burton  1925  tt0087803      actor\n",
       "9      James Cagney  1899  tt0031867      actor\n",
       "\n",
       "[10 rows x 4 columns]"
      ]
     },
     "execution_count": 132,
     "metadata": {},
     "output_type": "execute_result"
    }
   ],
   "source": [
    "name = 'primaryName'\n",
    "known = 'knownForTitles'\n",
    "profession = 'primaryProfession'\n",
    "born = 'birthYear'\n",
    "\n",
    "select_actors = f'''\n",
    "SELECT {name} AS name, \n",
    "  CAST({born} AS int) AS born,\n",
    "  SUBSTR({known}, 0, INSTR({known}, ',')) AS movie_id,\n",
    "  CASE WHEN {profession} LIKE '%actor%' THEN 'actor' \n",
    "    WHEN {profession} LIKE '%actress%' THEN 'actress'   \n",
    "    END AS profession\n",
    "FROM names\n",
    "WHERE {profession} LIKE '%act%' AND\n",
    "  born > 1800\n",
    "'''\n",
    "\n",
    "pd.read_sql(f'{select_actors} LIMIT 10', conn)"
   ]
  },
  {
   "cell_type": "code",
   "execution_count": 133,
   "metadata": {
    "scrolled": false
   },
   "outputs": [
    {
     "data": {
      "text/html": [
       "<div>\n",
       "<style scoped>\n",
       "    .dataframe tbody tr th:only-of-type {\n",
       "        vertical-align: middle;\n",
       "    }\n",
       "\n",
       "    .dataframe tbody tr th {\n",
       "        vertical-align: top;\n",
       "    }\n",
       "\n",
       "    .dataframe thead th {\n",
       "        text-align: right;\n",
       "    }\n",
       "</style>\n",
       "<table border=\"1\" class=\"dataframe\">\n",
       "  <thead>\n",
       "    <tr style=\"text-align: right;\">\n",
       "      <th></th>\n",
       "      <th>name</th>\n",
       "      <th>profession</th>\n",
       "      <th>born</th>\n",
       "      <th>title</th>\n",
       "      <th>year</th>\n",
       "    </tr>\n",
       "  </thead>\n",
       "  <tbody>\n",
       "    <tr>\n",
       "      <th>0</th>\n",
       "      <td>James Cagney</td>\n",
       "      <td>actor</td>\n",
       "      <td>1899</td>\n",
       "      <td>The Roaring Twenties</td>\n",
       "      <td>1939</td>\n",
       "    </tr>\n",
       "    <tr>\n",
       "      <th>1</th>\n",
       "      <td>Gary Cooper</td>\n",
       "      <td>actor</td>\n",
       "      <td>1901</td>\n",
       "      <td>High Noon</td>\n",
       "      <td>1952</td>\n",
       "    </tr>\n",
       "    <tr>\n",
       "      <th>2</th>\n",
       "      <td>Kirk Douglas</td>\n",
       "      <td>actor</td>\n",
       "      <td>1916</td>\n",
       "      <td>The Vikings</td>\n",
       "      <td>1958</td>\n",
       "    </tr>\n",
       "    <tr>\n",
       "      <th>...</th>\n",
       "      <td>...</td>\n",
       "      <td>...</td>\n",
       "      <td>...</td>\n",
       "      <td>...</td>\n",
       "      <td>...</td>\n",
       "    </tr>\n",
       "    <tr>\n",
       "      <th>7</th>\n",
       "      <td>Armin Mueller-Stahl</td>\n",
       "      <td>actor</td>\n",
       "      <td>1930</td>\n",
       "      <td>The International</td>\n",
       "      <td>2009</td>\n",
       "    </tr>\n",
       "    <tr>\n",
       "      <th>8</th>\n",
       "      <td>Gérard Pirès</td>\n",
       "      <td>actor</td>\n",
       "      <td>1942</td>\n",
       "      <td>Sky Fighters</td>\n",
       "      <td>2005</td>\n",
       "    </tr>\n",
       "    <tr>\n",
       "      <th>9</th>\n",
       "      <td>Jennifer Aniston</td>\n",
       "      <td>actress</td>\n",
       "      <td>1969</td>\n",
       "      <td>The Bounty Hunter</td>\n",
       "      <td>2010</td>\n",
       "    </tr>\n",
       "  </tbody>\n",
       "</table>\n",
       "<p>10 rows × 5 columns</p>\n",
       "</div>"
      ],
      "text/plain": [
       "                   name profession  born                 title  year\n",
       "0          James Cagney      actor  1899  The Roaring Twenties  1939\n",
       "1           Gary Cooper      actor  1901             High Noon  1952\n",
       "2          Kirk Douglas      actor  1916           The Vikings  1958\n",
       "..                  ...        ...   ...                   ...   ...\n",
       "7   Armin Mueller-Stahl      actor  1930     The International  2009\n",
       "8          Gérard Pirès      actor  1942          Sky Fighters  2005\n",
       "9      Jennifer Aniston    actress  1969     The Bounty Hunter  2010\n",
       "\n",
       "[10 rows x 5 columns]"
      ]
     },
     "execution_count": 133,
     "metadata": {},
     "output_type": "execute_result"
    }
   ],
   "source": [
    "select = f'''\n",
    "SELECT name, profession, born, title, year\n",
    "FROM ({select_actors}) JOIN action\n",
    "  ON movie_id = id;\n",
    "'''\n",
    "\n",
    "conn.executescript(f'''\n",
    "DROP TABLE IF EXISTS action_ppl;\n",
    "CREATE TABLE action_ppl AS {select};\n",
    "''')\n",
    "\n",
    "pd.read_sql('SELECT * FROM action_ppl LIMIT 10', conn)"
   ]
  },
  {
   "cell_type": "code",
   "execution_count": 134,
   "metadata": {},
   "outputs": [
    {
     "data": {
      "text/html": [
       "<div>\n",
       "<style scoped>\n",
       "    .dataframe tbody tr th:only-of-type {\n",
       "        vertical-align: middle;\n",
       "    }\n",
       "\n",
       "    .dataframe tbody tr th {\n",
       "        vertical-align: top;\n",
       "    }\n",
       "\n",
       "    .dataframe thead th {\n",
       "        text-align: right;\n",
       "    }\n",
       "</style>\n",
       "<table border=\"1\" class=\"dataframe\">\n",
       "  <thead>\n",
       "    <tr style=\"text-align: right;\">\n",
       "      <th></th>\n",
       "      <th>name</th>\n",
       "      <th>profession</th>\n",
       "      <th>born</th>\n",
       "      <th>title</th>\n",
       "      <th>year</th>\n",
       "    </tr>\n",
       "  </thead>\n",
       "  <tbody>\n",
       "    <tr>\n",
       "      <th>0</th>\n",
       "      <td>Robert Downey Jr.</td>\n",
       "      <td>actor</td>\n",
       "      <td>1965</td>\n",
       "      <td>The Avengers</td>\n",
       "      <td>2012</td>\n",
       "    </tr>\n",
       "    <tr>\n",
       "      <th>1</th>\n",
       "      <td>Grace Jones</td>\n",
       "      <td>actress</td>\n",
       "      <td>1948</td>\n",
       "      <td>The Avengers</td>\n",
       "      <td>1998</td>\n",
       "    </tr>\n",
       "    <tr>\n",
       "      <th>2</th>\n",
       "      <td>Julian Bleach</td>\n",
       "      <td>actor</td>\n",
       "      <td>1963</td>\n",
       "      <td>Avengers: Age of Ultron</td>\n",
       "      <td>2015</td>\n",
       "    </tr>\n",
       "    <tr>\n",
       "      <th>...</th>\n",
       "      <td>...</td>\n",
       "      <td>...</td>\n",
       "      <td>...</td>\n",
       "      <td>...</td>\n",
       "      <td>...</td>\n",
       "    </tr>\n",
       "    <tr>\n",
       "      <th>16</th>\n",
       "      <td>Mike Capuano</td>\n",
       "      <td>actor</td>\n",
       "      <td>1952</td>\n",
       "      <td>Avengers: Infinity War</td>\n",
       "      <td>2018</td>\n",
       "    </tr>\n",
       "    <tr>\n",
       "      <th>17</th>\n",
       "      <td>Brent Reichert</td>\n",
       "      <td>actor</td>\n",
       "      <td>1971</td>\n",
       "      <td>The Avengers</td>\n",
       "      <td>2012</td>\n",
       "    </tr>\n",
       "    <tr>\n",
       "      <th>18</th>\n",
       "      <td>Tom Culler</td>\n",
       "      <td>actor</td>\n",
       "      <td>1986</td>\n",
       "      <td>Avengers: Infinity War</td>\n",
       "      <td>2018</td>\n",
       "    </tr>\n",
       "  </tbody>\n",
       "</table>\n",
       "<p>19 rows × 5 columns</p>\n",
       "</div>"
      ],
      "text/plain": [
       "                 name profession  born                    title  year\n",
       "0   Robert Downey Jr.      actor  1965             The Avengers  2012\n",
       "1         Grace Jones    actress  1948             The Avengers  1998\n",
       "2       Julian Bleach      actor  1963  Avengers: Age of Ultron  2015\n",
       "..                ...        ...   ...                      ...   ...\n",
       "16       Mike Capuano      actor  1952   Avengers: Infinity War  2018\n",
       "17     Brent Reichert      actor  1971             The Avengers  2012\n",
       "18         Tom Culler      actor  1986   Avengers: Infinity War  2018\n",
       "\n",
       "[19 rows x 5 columns]"
      ]
     },
     "execution_count": 134,
     "metadata": {},
     "output_type": "execute_result"
    }
   ],
   "source": [
    "avengers = '''\n",
    "SELECT *\n",
    "FROM action_ppl\n",
    "WHERE title LIKE \"%Avengers%\"\n",
    "'''\n",
    "\n",
    "pd.read_sql(avengers, conn)"
   ]
  },
  {
   "cell_type": "code",
   "execution_count": 135,
   "metadata": {},
   "outputs": [
    {
     "data": {
      "text/html": [
       "<div>\n",
       "<style scoped>\n",
       "    .dataframe tbody tr th:only-of-type {\n",
       "        vertical-align: middle;\n",
       "    }\n",
       "\n",
       "    .dataframe tbody tr th {\n",
       "        vertical-align: top;\n",
       "    }\n",
       "\n",
       "    .dataframe thead th {\n",
       "        text-align: right;\n",
       "    }\n",
       "</style>\n",
       "<table border=\"1\" class=\"dataframe\">\n",
       "  <thead>\n",
       "    <tr style=\"text-align: right;\">\n",
       "      <th></th>\n",
       "      <th>name</th>\n",
       "      <th>born</th>\n",
       "      <th>year</th>\n",
       "      <th>age</th>\n",
       "    </tr>\n",
       "  </thead>\n",
       "  <tbody>\n",
       "    <tr>\n",
       "      <th>9799</th>\n",
       "      <td>David Oliver</td>\n",
       "      <td>1898</td>\n",
       "      <td>1938</td>\n",
       "      <td>old</td>\n",
       "    </tr>\n",
       "    <tr>\n",
       "      <th>9513</th>\n",
       "      <td>Francesca Neri</td>\n",
       "      <td>1964</td>\n",
       "      <td>2002</td>\n",
       "      <td>old</td>\n",
       "    </tr>\n",
       "    <tr>\n",
       "      <th>4807</th>\n",
       "      <td>Nader Galal</td>\n",
       "      <td>1941</td>\n",
       "      <td>1988</td>\n",
       "      <td>old</td>\n",
       "    </tr>\n",
       "    <tr>\n",
       "      <th>...</th>\n",
       "      <td>...</td>\n",
       "      <td>...</td>\n",
       "      <td>...</td>\n",
       "      <td>...</td>\n",
       "    </tr>\n",
       "    <tr>\n",
       "      <th>3665</th>\n",
       "      <td>Frank Delfino</td>\n",
       "      <td>1911</td>\n",
       "      <td>1980</td>\n",
       "      <td>old</td>\n",
       "    </tr>\n",
       "    <tr>\n",
       "      <th>13522</th>\n",
       "      <td>Paddy Webster</td>\n",
       "      <td>1936</td>\n",
       "      <td>1969</td>\n",
       "      <td>old</td>\n",
       "    </tr>\n",
       "    <tr>\n",
       "      <th>1513</th>\n",
       "      <td>Derek Basco</td>\n",
       "      <td>1970</td>\n",
       "      <td>2018</td>\n",
       "      <td>old</td>\n",
       "    </tr>\n",
       "  </tbody>\n",
       "</table>\n",
       "<p>10 rows × 4 columns</p>\n",
       "</div>"
      ],
      "text/plain": [
       "                 name  born  year  age\n",
       "9799     David Oliver  1898  1938  old\n",
       "9513   Francesca Neri  1964  2002  old\n",
       "4807      Nader Galal  1941  1988  old\n",
       "...               ...   ...   ...  ...\n",
       "3665    Frank Delfino  1911  1980  old\n",
       "13522   Paddy Webster  1936  1969  old\n",
       "1513      Derek Basco  1970  2018  old\n",
       "\n",
       "[10 rows x 4 columns]"
      ]
     },
     "execution_count": 135,
     "metadata": {},
     "output_type": "execute_result"
    }
   ],
   "source": [
    "pd.read_sql('''\n",
    "SELECT name, born, year,\n",
    "  CASE WHEN born < 1980 THEN 'old' \n",
    "    WHEN born < 2000 THEN 'not too old' \n",
    "    ELSE 'young' END\n",
    "    AS age\n",
    "FROM action_ppl\n",
    "''', conn).sample(10)"
   ]
  },
  {
   "cell_type": "code",
   "execution_count": 136,
   "metadata": {},
   "outputs": [
    {
     "data": {
      "text/plain": [
       "(15521, 5)"
      ]
     },
     "execution_count": 136,
     "metadata": {},
     "output_type": "execute_result"
    }
   ],
   "source": [
    "df = pd.read_sql('SELECT * FROM action_ppl', conn)\n",
    "df.shape"
   ]
  },
  {
   "cell_type": "code",
   "execution_count": 137,
   "metadata": {},
   "outputs": [
    {
     "data": {
      "image/png": "[encoded data removed]",
      "text/plain": [
       "<Figure size 432x288 with 1 Axes>"
      ]
     },
     "metadata": {},
     "output_type": "display_data"
    }
   ],
   "source": [
    "df['age'] = df['year'] - df['born']\n",
    "bins = np.linspace(0, 100, 21)\n",
    "sns.distplot(df[df['profession']=='actor']['age'], bins=bins)\n",
    "sns.distplot(df[df['profession']=='actress']['age'], bins=bins)\n",
    "plt.legend(labels=['Actor', 'Actress'])\n",
    "plt.xticks(bins, rotation=90)\n",
    "plt.xlim(0, 100)\n",
    "plt.ylabel('density');\n",
    "plt.title('Ages of actors in the Action movies they are known for');"
   ]
  },
  {
   "cell_type": "code",
   "execution_count": null,
   "metadata": {},
   "outputs": [],
   "source": []
  }
 ],
 "metadata": {
  "kernelspec": {
   "display_name": "Python 3",
   "language": "python",
   "name": "python3"
  },
  "language_info": {
   "codemirror_mode": {
    "name": "ipython",
    "version": 3
   },
   "file_extension": ".py",
   "mimetype": "text/x-python",
   "name": "python",
   "nbconvert_exporter": "python",
   "pygments_lexer": "ipython3",
   "version": "3.7.3"
  }
 },
 "nbformat": 4,
 "nbformat_minor": 2
}
