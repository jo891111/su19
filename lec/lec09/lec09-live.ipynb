{
 "cells": [
  {
   "cell_type": "code",
   "execution_count": null,
   "metadata": {},
   "outputs": [],
   "source": [
    "# HIDDEN\n",
    "# Ignore numpy dtype warnings. These warnings are caused by an interaction\n",
    "# between numpy and Cython and can be safely ignored.\n",
    "# Reference: https://stackoverflow.com/a/40846742\n",
    "import warnings\n",
    "warnings.filterwarnings(\"ignore\", message=\"numpy.dtype size changed\")\n",
    "warnings.filterwarnings(\"ignore\", message=\"numpy.ufunc size changed\")\n",
    "import numpy as np\n",
    "import matplotlib.pyplot as plt\n",
    "import pandas as pd\n",
    "import seaborn as sns\n",
    "%matplotlib inline\n",
    "\n",
    "from pathlib import Path\n",
    "from ds100_utils import fetch_and_cache\n",
    "from datetime import datetime\n",
    "from IPython.display import display\n",
    "\n",
    "import yaml\n",
    "\n",
    "sns.set()\n",
    "sns.set_context('talk')\n",
    "np.set_printoptions(threshold=20, precision=2, suppress=True)\n",
    "pd.set_option('display.max_rows', 7)\n",
    "pd.set_option('display.max_columns', 8)\n",
    "pd.set_option('precision', 2)\n",
    "# This option stops scientific notation for pandas\n",
    "# pd.set_option('display.float_format', '{:.2f}'.format)"
   ]
  },
  {
   "cell_type": "code",
   "execution_count": null,
   "metadata": {},
   "outputs": [],
   "source": [
    "# Sam's special methods to display large DataFrames\n",
    "import ipywidgets as widgets\n",
    "from ipywidgets import interact, interactive, fixed, interact_manual\n",
    "def df_interact(df, nrows=7, ncols=7):\n",
    "    '''\n",
    "    Outputs sliders that show rows and columns of df\n",
    "    '''\n",
    "    def peek(row=0, col=0):\n",
    "        return df.iloc[row:row + nrows, col:col + ncols]\n",
    "\n",
    "    row_arg = (0, len(df), nrows) if len(df) > nrows else fixed(0)\n",
    "    col_arg = ((0, len(df.columns), ncols)\n",
    "               if len(df.columns) > ncols else fixed(0))\n",
    "    \n",
    "    interact(peek, row=row_arg, col=col_arg)\n",
    "    print('({} rows, {} columns) total'.format(df.shape[0], df.shape[1]))\n",
    "\n",
    "def display_df(df, rows=pd.options.display.max_rows,\n",
    "               cols=pd.options.display.max_columns):\n",
    "    with pd.option_context('display.max_rows', rows,\n",
    "                           'display.max_columns', cols):\n",
    "        display(df)"
   ]
  },
  {
   "cell_type": "code",
   "execution_count": null,
   "metadata": {},
   "outputs": [],
   "source": [
    "def plot_vec(x_dir, y_dir):\n",
    "    plt.quiver(0, 0, x_dir, y_dir, scale_units='xy', angles='xy',\n",
    "               scale=0.1, color='red')"
   ]
  },
  {
   "cell_type": "markdown",
   "metadata": {},
   "source": [
    "## Voting Patterns in Congress"
   ]
  },
  {
   "cell_type": "code",
   "execution_count": null,
   "metadata": {},
   "outputs": [],
   "source": [
    "# From Lecture 4\n",
    "base_url = 'https://github.com/unitedstates/congress-legislators/raw/master/'\n",
    "legislators_path = 'legislators-current.yaml'\n",
    "f = fetch_and_cache(base_url + legislators_path, legislators_path)\n",
    "legislators_data = yaml.safe_load(open(f))\n",
    "\n",
    "def to_date(s):\n",
    "    return datetime.strptime(s, '%Y-%m-%d')\n",
    "\n",
    "legs = pd.DataFrame(\n",
    "    columns=['leg_id', 'first', 'last', 'gender', 'state', 'chamber', 'party', 'birthday'],\n",
    "    data=[[x['id']['bioguide'], \n",
    "           x['name']['first'],\n",
    "           x['name']['last'],\n",
    "           x['bio']['gender'],\n",
    "           x['terms'][-1]['state'],\n",
    "           x['terms'][-1]['type'],\n",
    "           x['terms'][-1]['party'],\n",
    "           to_date(x['bio']['birthday'])] for x in legislators_data])\n",
    "\n",
    "legs"
   ]
  },
  {
   "cell_type": "code",
   "execution_count": null,
   "metadata": {},
   "outputs": [],
   "source": [
    "# February 2019 House of Representatives roll call votes\n",
    "# Downloaded using https://github.com/eyeseast/propublica-congress\n",
    "votes = pd.read_csv('votes.csv')\n",
    "votes"
   ]
  },
  {
   "cell_type": "code",
   "execution_count": null,
   "metadata": {},
   "outputs": [],
   "source": [
    "votes.merge(legs, left_on='member', right_on='leg_id').sample(5)"
   ]
  },
  {
   "cell_type": "code",
   "execution_count": null,
   "metadata": {},
   "outputs": [],
   "source": [
    "yes_no = votes[votes['vote'] == 'Yes']\n",
    "vote_pivot = yes_no.pivot_table(index='member', \n",
    "                                columns='roll call', \n",
    "                                values='vote', \n",
    "                                aggfunc=len, \n",
    "                                fill_value=0)\n",
    "print(vote_pivot.shape)\n",
    "vote_pivot"
   ]
  },
  {
   "cell_type": "code",
   "execution_count": null,
   "metadata": {},
   "outputs": [],
   "source": []
  },
  {
   "cell_type": "code",
   "execution_count": null,
   "metadata": {},
   "outputs": [],
   "source": []
  },
  {
   "cell_type": "code",
   "execution_count": null,
   "metadata": {},
   "outputs": [],
   "source": []
  },
  {
   "cell_type": "code",
   "execution_count": null,
   "metadata": {},
   "outputs": [],
   "source": []
  },
  {
   "cell_type": "code",
   "execution_count": null,
   "metadata": {},
   "outputs": [],
   "source": []
  },
  {
   "cell_type": "code",
   "execution_count": null,
   "metadata": {},
   "outputs": [],
   "source": []
  },
  {
   "cell_type": "markdown",
   "metadata": {},
   "source": [
    "This doesn't say much..."
   ]
  },
  {
   "cell_type": "markdown",
   "metadata": {},
   "source": [
    "## Linear Algebra"
   ]
  },
  {
   "cell_type": "markdown",
   "metadata": {},
   "source": [
    "### Matrices"
   ]
  },
  {
   "cell_type": "code",
   "execution_count": null,
   "metadata": {
    "scrolled": true
   },
   "outputs": [],
   "source": [
    "matrix = np.arange(1, 13).reshape(3, 4)\n",
    "matrix"
   ]
  },
  {
   "cell_type": "code",
   "execution_count": null,
   "metadata": {},
   "outputs": [],
   "source": []
  },
  {
   "cell_type": "code",
   "execution_count": null,
   "metadata": {},
   "outputs": [],
   "source": []
  },
  {
   "cell_type": "code",
   "execution_count": null,
   "metadata": {},
   "outputs": [],
   "source": []
  },
  {
   "cell_type": "code",
   "execution_count": null,
   "metadata": {},
   "outputs": [],
   "source": []
  },
  {
   "cell_type": "markdown",
   "metadata": {},
   "source": [
    "### Right-multiply & left-multiply"
   ]
  },
  {
   "cell_type": "code",
   "execution_count": null,
   "metadata": {},
   "outputs": [],
   "source": [
    "matrix"
   ]
  },
  {
   "cell_type": "markdown",
   "metadata": {},
   "source": [
    "In numpy, both row and column vectors are 1D vectors. Sadly, column vectors also look like row vectors. The multiplication below is:\n",
    "\n",
    "$$\n",
    "\\left[ \\begin{matrix} 1 & 2 & 3 & 4 \\\\ 5 & 6 & 7 & 8 \\\\ 9 & 10 & 11 & 12 \\end{matrix} \\right] \n",
    "\\cdot\n",
    "\\left[ \\begin{matrix} 1000 \\\\ 100 \\\\ 10 \\\\ 1 \\end{matrix} \\right]\n",
    "$$"
   ]
  },
  {
   "cell_type": "code",
   "execution_count": null,
   "metadata": {},
   "outputs": [],
   "source": []
  },
  {
   "cell_type": "code",
   "execution_count": null,
   "metadata": {},
   "outputs": [],
   "source": []
  },
  {
   "cell_type": "markdown",
   "metadata": {},
   "source": [
    "### Singular value decomposition"
   ]
  },
  {
   "cell_type": "code",
   "execution_count": null,
   "metadata": {},
   "outputs": [],
   "source": [
    "matrix"
   ]
  },
  {
   "cell_type": "code",
   "execution_count": null,
   "metadata": {},
   "outputs": [],
   "source": []
  },
  {
   "cell_type": "code",
   "execution_count": null,
   "metadata": {},
   "outputs": [],
   "source": []
  },
  {
   "cell_type": "code",
   "execution_count": null,
   "metadata": {},
   "outputs": [],
   "source": []
  },
  {
   "cell_type": "code",
   "execution_count": null,
   "metadata": {},
   "outputs": [],
   "source": []
  },
  {
   "cell_type": "code",
   "execution_count": null,
   "metadata": {},
   "outputs": [],
   "source": []
  },
  {
   "cell_type": "code",
   "execution_count": null,
   "metadata": {},
   "outputs": [],
   "source": []
  },
  {
   "cell_type": "code",
   "execution_count": null,
   "metadata": {},
   "outputs": [],
   "source": []
  },
  {
   "cell_type": "code",
   "execution_count": null,
   "metadata": {},
   "outputs": [],
   "source": []
  },
  {
   "cell_type": "code",
   "execution_count": null,
   "metadata": {},
   "outputs": [],
   "source": []
  },
  {
   "cell_type": "markdown",
   "metadata": {},
   "source": [
    "**What's SVD good for?** Suppose you have the data plotted below. The data have two attributes but are in reality only one-dimensional! In other words, you don't need both `x` and `y` columns to encode the data."
   ]
  },
  {
   "cell_type": "code",
   "execution_count": null,
   "metadata": {},
   "outputs": [],
   "source": [
    "points = pd.read_csv('points.csv')\n",
    "points"
   ]
  },
  {
   "cell_type": "code",
   "execution_count": null,
   "metadata": {},
   "outputs": [],
   "source": [
    "plt.figure(figsize=(5, 5))\n",
    "sns.scatterplot('x', 'y', data=points)\n",
    "plt.axis('equal');"
   ]
  },
  {
   "cell_type": "code",
   "execution_count": null,
   "metadata": {},
   "outputs": [],
   "source": []
  },
  {
   "cell_type": "code",
   "execution_count": null,
   "metadata": {},
   "outputs": [],
   "source": []
  },
  {
   "cell_type": "code",
   "execution_count": null,
   "metadata": {},
   "outputs": [],
   "source": []
  },
  {
   "cell_type": "code",
   "execution_count": null,
   "metadata": {},
   "outputs": [],
   "source": []
  },
  {
   "cell_type": "code",
   "execution_count": null,
   "metadata": {},
   "outputs": [],
   "source": []
  },
  {
   "cell_type": "markdown",
   "metadata": {},
   "source": [
    "We can represent the pattern in the data using only one dimension which SVD finds for us. The direction of this dimenion is the first row in the $ V^\\top $ matrix!"
   ]
  },
  {
   "cell_type": "code",
   "execution_count": null,
   "metadata": {},
   "outputs": [],
   "source": []
  },
  {
   "cell_type": "code",
   "execution_count": null,
   "metadata": {},
   "outputs": [],
   "source": []
  },
  {
   "cell_type": "code",
   "execution_count": null,
   "metadata": {},
   "outputs": [],
   "source": []
  },
  {
   "cell_type": "code",
   "execution_count": null,
   "metadata": {},
   "outputs": [],
   "source": [
    "plt.figure(figsize=(10, 5))\n",
    "\n",
    "plt.subplot(121)\n",
    "sns.scatterplot('x', 'y', data=points)\n",
    "plot_vec(x_dir, y_dir)\n",
    "plt.axis('equal')\n",
    "plt.title('Original data (2D)')\n",
    "\n",
    "plt.subplot(122)\n",
    "sns.scatterplot(-projection, np.zeros(len(u)))\n",
    "plot_vec(1, 0)\n",
    "plt.axis('equal')\n",
    "plt.title('Projected data (1D)')\n",
    "\n",
    "plt.tight_layout()"
   ]
  },
  {
   "cell_type": "markdown",
   "metadata": {},
   "source": [
    "So, even if we have 100 columns in the original data, if SVD shows only two singular values then we know we can represent the data using two dimensions."
   ]
  },
  {
   "cell_type": "markdown",
   "metadata": {},
   "source": [
    "## Principal Component Analysis (Preview)"
   ]
  },
  {
   "cell_type": "code",
   "execution_count": null,
   "metadata": {},
   "outputs": [],
   "source": [
    "D = vote_pivot.values\n",
    "n = D.shape[0]\n",
    "X = (D - np.mean(D, axis=0)) / np.sqrt(n)\n",
    "u, s, vt = np.linalg.svd(X, full_matrices=False)"
   ]
  },
  {
   "cell_type": "code",
   "execution_count": null,
   "metadata": {},
   "outputs": [],
   "source": [
    "t = X @ vt.T\n",
    "sns.scatterplot(x=t[:, 0], y=t[:, 1]);"
   ]
  },
  {
   "cell_type": "markdown",
   "metadata": {},
   "source": [
    "PCA finds the party split without knowing anything about political parties:"
   ]
  },
  {
   "cell_type": "code",
   "execution_count": null,
   "metadata": {},
   "outputs": [],
   "source": [
    "vote2d = pd.DataFrame({\n",
    "    'member': vote_pivot.index,\n",
    "    'pc1': t[:, 0],\n",
    "    'pc2': t[:, 1]\n",
    "}).merge(legs, left_on='member', right_on='leg_id')\n",
    "\n",
    "plt.figure(figsize=(8, 5))\n",
    "sns.scatterplot(x='pc1', y='pc2', hue='party', data=vote2d)"
   ]
  },
  {
   "cell_type": "markdown",
   "metadata": {},
   "source": [
    "## PCA Intuition: Going from 2D to 1D"
   ]
  },
  {
   "cell_type": "code",
   "execution_count": null,
   "metadata": {},
   "outputs": [],
   "source": [
    "# Downloads from https://www.gapminder.org/data/\n",
    "cm_path = 'child_mortality_0_5_year_olds_dying_per_1000_born.csv'\n",
    "fe_path = 'children_per_woman_total_fertility.csv'\n",
    "cm = pd.read_csv(cm_path).set_index('country')['2017'].to_frame()/10\n",
    "fe = pd.read_csv(fe_path).set_index('country')['2017'].to_frame()\n",
    "data = cm.merge(fe, left_index=True, right_index=True).dropna()\n",
    "data.columns = ['mortality', 'fertility']\n",
    "data.head()"
   ]
  },
  {
   "cell_type": "code",
   "execution_count": null,
   "metadata": {},
   "outputs": [],
   "source": [
    "def scatter():\n",
    "    sns.scatterplot('mortality', 'fertility', data=data)\n",
    "    plt.xlim([0, 14])\n",
    "    plt.ylim([0, 14])\n",
    "    plt.xticks(np.arange(0, 14, 2))\n",
    "    plt.yticks(np.arange(0, 14, 2))\n",
    "\n",
    "\n",
    "scatter()"
   ]
  },
  {
   "cell_type": "code",
   "execution_count": null,
   "metadata": {},
   "outputs": [],
   "source": [
    "x, y = data['mortality'], data['fertility']\n",
    "slope_x, intercept_x = np.polyfit(x, y, 1) # simple linear regression\n",
    "\n",
    "scatter()\n",
    "plt.plot(x, slope_x * x + intercept_x)\n",
    "for _, row in data.sample(20).iterrows():\n",
    "    x, y = row['mortality'], row['fertility']\n",
    "    plt.plot([x, x], [slope_x * x + intercept_x, y], c='red')"
   ]
  },
  {
   "cell_type": "code",
   "execution_count": null,
   "metadata": {},
   "outputs": [],
   "source": [
    "x, y = data['mortality'], data['fertility']\n",
    "slope_y, intercept_y = np.polyfit(y, x, 1) # simple linear regression\n",
    "\n",
    "scatter()\n",
    "plt.plot(x, slope_x * x + intercept_x)\n",
    "plt.plot(slope_y * y + intercept_y, y)\n",
    "for _, row in data.sample(20).iterrows():\n",
    "    x, y = row['mortality'], row['fertility']\n",
    "    plt.plot([x, slope_y * y + intercept_y], [y, y], c='red')"
   ]
  },
  {
   "cell_type": "code",
   "execution_count": null,
   "metadata": {},
   "outputs": [],
   "source": [
    "from sklearn.decomposition import PCA\n",
    "\n",
    "plt.figure(figsize=(10, 10))\n",
    "\n",
    "D = data.values\n",
    "means = np.mean(D, axis=0)\n",
    "first_pc = PCA(n_components=1).fit(D).components_[0]\n",
    "\n",
    "# Find the projection of each point onto the \n",
    "#   first principal component (first_pc).\n",
    "line = np.outer((D - means) @ first_pc, first_pc) + means\n",
    "\n",
    "x, y = data['mortality'], data['fertility']\n",
    "scatter()\n",
    "plt.plot(x, slope_x * x + intercept_x) # regression line for x\n",
    "plt.plot(slope_y * y + intercept_y, y) # regression line for y\n",
    "plt.plot(line[:, 0], line[:, 1])       # principal component line\n",
    "\n",
    "for i, row in data.reset_index().sample(20).iterrows():\n",
    "    x, y = row['mortality'], row['fertility']\n",
    "    xp, yp = line[i, :]\n",
    "    plt.plot([x, xp], [y, yp], c='red')"
   ]
  },
  {
   "cell_type": "code",
   "execution_count": null,
   "metadata": {},
   "outputs": [],
   "source": []
  }
 ],
 "metadata": {
  "kernelspec": {
   "display_name": "Python 3",
   "language": "python",
   "name": "python3"
  },
  "language_info": {
   "codemirror_mode": {
    "name": "ipython",
    "version": 3
   },
   "file_extension": ".py",
   "mimetype": "text/x-python",
   "name": "python",
   "nbconvert_exporter": "python",
   "pygments_lexer": "ipython3",
   "version": "3.7.3"
  }
 },
 "nbformat": 4,
 "nbformat_minor": 2
}
